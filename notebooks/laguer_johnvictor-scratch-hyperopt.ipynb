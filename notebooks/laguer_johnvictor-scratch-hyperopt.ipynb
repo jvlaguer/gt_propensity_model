{
 "cells": [
  {
   "cell_type": "markdown",
   "id": "e82a35b6-eebd-4e69-9664-75d05f21303e",
   "metadata": {},
   "source": [
    "# **Experiment Notebook - XGBoostRegressor**\n",
    "\n"
   ]
  },
  {
   "cell_type": "markdown",
   "id": "c0c7f3f7-8af3-4b34-b1c6-d69ca84fff08",
   "metadata": {},
   "source": [
    "## The Brief: \n",
    "This is work commissioned by an American retailer that has 10 stores across 3 different states: California (CA), Texas (TX) and Wisconsin (WI).\n",
    "\n",
    "The task is building 1 forecasting model and 1 predictive model, and both will be deployed into production as API:\n",
    "\n",
    "- The predictive model  accurately predict the sales revenue for a given item in a specific store at a given date.\n",
    "- The forecasting model conducts a time-series analysis algorithm forecasts the total sales revenue across all stores and items for one week given a date.\n",
    "\n",
    "The metric used to assess model performance is RMSE (Root Mean Squared Error).\n",
    "\n",
    "This experiment notebook is aimed in developing the predictive model, and uses the XGBoostRegressor algorithm."
   ]
  },
  {
   "cell_type": "markdown",
   "id": "94b31269-9fd2-4f65-9be1-71d6eeb970e7",
   "metadata": {},
   "source": [
    "### 1. Load the dataset"
   ]
  },
  {
   "cell_type": "code",
   "execution_count": 1,
   "id": "db5775ab-bfd0-43b7-be64-3fee5d1d0ab1",
   "metadata": {},
   "outputs": [],
   "source": [
    "# load modules\n",
    "%load_ext autoreload\n",
    "%autoreload 2"
   ]
  },
  {
   "cell_type": "code",
   "execution_count": 101,
   "id": "df05efa2-35ff-46bf-93ae-07abe3eb7bb3",
   "metadata": {},
   "outputs": [
    {
     "name": "stdout",
     "output_type": "stream",
     "text": [
      "Looking in indexes: https://test.pypi.org/simple/\n",
      "Collecting my_krml_24618288==2024.0.3.7\n",
      "  Downloading https://test-files.pythonhosted.org/packages/fa/7e/0990b59ac5aa467338b71f8439554f3efd2e58175bb89dcaba98f9714f1d/my_krml_24618288-2024.0.3.7-py3-none-any.whl.metadata (1.2 kB)\n",
      "Requirement already satisfied: pandas==2.2.2 in c:\\users\\jv\\appdata\\local\\pypoetry\\cache\\virtualenvs\\adv-mla-2024-at2-gr3xljkv-py3.12\\lib\\site-packages (from my_krml_24618288==2024.0.3.7) (2.2.2)\n",
      "Requirement already satisfied: scikit-learn==1.5.1 in c:\\users\\jv\\appdata\\local\\pypoetry\\cache\\virtualenvs\\adv-mla-2024-at2-gr3xljkv-py3.12\\lib\\site-packages (from my_krml_24618288==2024.0.3.7) (1.5.1)\n",
      "Requirement already satisfied: numpy>=1.26.0 in c:\\users\\jv\\appdata\\local\\pypoetry\\cache\\virtualenvs\\adv-mla-2024-at2-gr3xljkv-py3.12\\lib\\site-packages (from pandas==2.2.2->my_krml_24618288==2024.0.3.7) (2.1.1)\n",
      "Requirement already satisfied: python-dateutil>=2.8.2 in c:\\users\\jv\\appdata\\local\\pypoetry\\cache\\virtualenvs\\adv-mla-2024-at2-gr3xljkv-py3.12\\lib\\site-packages (from pandas==2.2.2->my_krml_24618288==2024.0.3.7) (2.9.0.post0)\n",
      "Requirement already satisfied: pytz>=2020.1 in c:\\users\\jv\\appdata\\local\\pypoetry\\cache\\virtualenvs\\adv-mla-2024-at2-gr3xljkv-py3.12\\lib\\site-packages (from pandas==2.2.2->my_krml_24618288==2024.0.3.7) (2024.2)\n",
      "Requirement already satisfied: tzdata>=2022.7 in c:\\users\\jv\\appdata\\local\\pypoetry\\cache\\virtualenvs\\adv-mla-2024-at2-gr3xljkv-py3.12\\lib\\site-packages (from pandas==2.2.2->my_krml_24618288==2024.0.3.7) (2024.1)\n",
      "Requirement already satisfied: scipy>=1.6.0 in c:\\users\\jv\\appdata\\local\\pypoetry\\cache\\virtualenvs\\adv-mla-2024-at2-gr3xljkv-py3.12\\lib\\site-packages (from scikit-learn==1.5.1->my_krml_24618288==2024.0.3.7) (1.14.1)\n",
      "Requirement already satisfied: joblib>=1.2.0 in c:\\users\\jv\\appdata\\local\\pypoetry\\cache\\virtualenvs\\adv-mla-2024-at2-gr3xljkv-py3.12\\lib\\site-packages (from scikit-learn==1.5.1->my_krml_24618288==2024.0.3.7) (1.4.2)\n",
      "Requirement already satisfied: threadpoolctl>=3.1.0 in c:\\users\\jv\\appdata\\local\\pypoetry\\cache\\virtualenvs\\adv-mla-2024-at2-gr3xljkv-py3.12\\lib\\site-packages (from scikit-learn==1.5.1->my_krml_24618288==2024.0.3.7) (3.5.0)\n",
      "Requirement already satisfied: six>=1.5 in c:\\users\\jv\\appdata\\local\\pypoetry\\cache\\virtualenvs\\adv-mla-2024-at2-gr3xljkv-py3.12\\lib\\site-packages (from python-dateutil>=2.8.2->pandas==2.2.2->my_krml_24618288==2024.0.3.7) (1.16.0)\n",
      "Downloading https://test-files.pythonhosted.org/packages/fa/7e/0990b59ac5aa467338b71f8439554f3efd2e58175bb89dcaba98f9714f1d/my_krml_24618288-2024.0.3.7-py3-none-any.whl (6.3 kB)\n",
      "Installing collected packages: my_krml_24618288\n",
      "  Attempting uninstall: my_krml_24618288\n",
      "    Found existing installation: my_krml_24618288 2024.0.3.6\n",
      "    Uninstalling my_krml_24618288-2024.0.3.6:\n",
      "      Successfully uninstalled my_krml_24618288-2024.0.3.6\n",
      "Successfully installed my_krml_24618288-2024.0.3.7\n"
     ]
    }
   ],
   "source": [
    "# pip install krml package\n",
    "! pip install -i https://test.pypi.org/simple/ my_krml_24618288==2024.0.3.7"
   ]
  },
  {
   "cell_type": "code",
   "execution_count": 3,
   "id": "e368a1e8-0404-469c-aae0-93ffcbfaa28f",
   "metadata": {},
   "outputs": [],
   "source": [
    "# data libraries\n",
    "import pandas as pd\n",
    "import numpy as np\n",
    "from matplotlib import pyplot as plt\n",
    "import seaborn as sns\n",
    "\n",
    "# filter warnings\n",
    "import warnings\n",
    "warnings.filterwarnings(\"ignore\")"
   ]
  },
  {
   "cell_type": "code",
   "execution_count": 4,
   "id": "13538a56-b007-4426-be1a-d3309e04274c",
   "metadata": {},
   "outputs": [
    {
     "data": {
      "text/html": [
       "<div>\n",
       "<style scoped>\n",
       "    .dataframe tbody tr th:only-of-type {\n",
       "        vertical-align: middle;\n",
       "    }\n",
       "\n",
       "    .dataframe tbody tr th {\n",
       "        vertical-align: top;\n",
       "    }\n",
       "\n",
       "    .dataframe thead th {\n",
       "        text-align: right;\n",
       "    }\n",
       "</style>\n",
       "<table border=\"1\" class=\"dataframe\">\n",
       "  <thead>\n",
       "    <tr style=\"text-align: right;\">\n",
       "      <th></th>\n",
       "      <th>id</th>\n",
       "      <th>item_id</th>\n",
       "      <th>dept_id</th>\n",
       "      <th>cat_id</th>\n",
       "      <th>store_id</th>\n",
       "      <th>state_id</th>\n",
       "      <th>sales_qty</th>\n",
       "      <th>date</th>\n",
       "      <th>wm_yr_wk</th>\n",
       "      <th>sell_price</th>\n",
       "    </tr>\n",
       "  </thead>\n",
       "  <tbody>\n",
       "    <tr>\n",
       "      <th>0</th>\n",
       "      <td>HOBBIES_1_001_CA_1_evaluation</td>\n",
       "      <td>HOBBIES_1_001</td>\n",
       "      <td>HOBBIES_1</td>\n",
       "      <td>HOBBIES</td>\n",
       "      <td>CA_1</td>\n",
       "      <td>CA</td>\n",
       "      <td>0</td>\n",
       "      <td>2011-01-29</td>\n",
       "      <td>11101</td>\n",
       "      <td>8.288651</td>\n",
       "    </tr>\n",
       "    <tr>\n",
       "      <th>1</th>\n",
       "      <td>HOBBIES_1_002_CA_1_evaluation</td>\n",
       "      <td>HOBBIES_1_002</td>\n",
       "      <td>HOBBIES_1</td>\n",
       "      <td>HOBBIES</td>\n",
       "      <td>CA_1</td>\n",
       "      <td>CA</td>\n",
       "      <td>0</td>\n",
       "      <td>2011-01-29</td>\n",
       "      <td>11101</td>\n",
       "      <td>3.970000</td>\n",
       "    </tr>\n",
       "    <tr>\n",
       "      <th>2</th>\n",
       "      <td>HOBBIES_1_003_CA_1_evaluation</td>\n",
       "      <td>HOBBIES_1_003</td>\n",
       "      <td>HOBBIES_1</td>\n",
       "      <td>HOBBIES</td>\n",
       "      <td>CA_1</td>\n",
       "      <td>CA</td>\n",
       "      <td>0</td>\n",
       "      <td>2011-01-29</td>\n",
       "      <td>11101</td>\n",
       "      <td>2.970000</td>\n",
       "    </tr>\n",
       "    <tr>\n",
       "      <th>3</th>\n",
       "      <td>HOBBIES_1_004_CA_1_evaluation</td>\n",
       "      <td>HOBBIES_1_004</td>\n",
       "      <td>HOBBIES_1</td>\n",
       "      <td>HOBBIES</td>\n",
       "      <td>CA_1</td>\n",
       "      <td>CA</td>\n",
       "      <td>0</td>\n",
       "      <td>2011-01-29</td>\n",
       "      <td>11101</td>\n",
       "      <td>4.496375</td>\n",
       "    </tr>\n",
       "    <tr>\n",
       "      <th>4</th>\n",
       "      <td>HOBBIES_1_005_CA_1_evaluation</td>\n",
       "      <td>HOBBIES_1_005</td>\n",
       "      <td>HOBBIES_1</td>\n",
       "      <td>HOBBIES</td>\n",
       "      <td>CA_1</td>\n",
       "      <td>CA</td>\n",
       "      <td>0</td>\n",
       "      <td>2011-01-29</td>\n",
       "      <td>11101</td>\n",
       "      <td>2.959356</td>\n",
       "    </tr>\n",
       "  </tbody>\n",
       "</table>\n",
       "</div>"
      ],
      "text/plain": [
       "                              id        item_id    dept_id   cat_id store_id  \\\n",
       "0  HOBBIES_1_001_CA_1_evaluation  HOBBIES_1_001  HOBBIES_1  HOBBIES     CA_1   \n",
       "1  HOBBIES_1_002_CA_1_evaluation  HOBBIES_1_002  HOBBIES_1  HOBBIES     CA_1   \n",
       "2  HOBBIES_1_003_CA_1_evaluation  HOBBIES_1_003  HOBBIES_1  HOBBIES     CA_1   \n",
       "3  HOBBIES_1_004_CA_1_evaluation  HOBBIES_1_004  HOBBIES_1  HOBBIES     CA_1   \n",
       "4  HOBBIES_1_005_CA_1_evaluation  HOBBIES_1_005  HOBBIES_1  HOBBIES     CA_1   \n",
       "\n",
       "  state_id  sales_qty        date  wm_yr_wk  sell_price  \n",
       "0       CA          0  2011-01-29     11101    8.288651  \n",
       "1       CA          0  2011-01-29     11101    3.970000  \n",
       "2       CA          0  2011-01-29     11101    2.970000  \n",
       "3       CA          0  2011-01-29     11101    4.496375  \n",
       "4       CA          0  2011-01-29     11101    2.959356  "
      ]
     },
     "execution_count": 4,
     "metadata": {},
     "output_type": "execute_result"
    }
   ],
   "source": [
    "df_data = pd.read_csv(\"../../data/processed/df_train_nonull.csv\", index_col=0)\n",
    "df_data.head()"
   ]
  },
  {
   "cell_type": "markdown",
   "id": "f05eaead-ea62-4147-98b1-5743b4cda277",
   "metadata": {},
   "source": [
    "### 2. Explore the datasets"
   ]
  },
  {
   "cell_type": "markdown",
   "id": "08a0ed57-3899-4888-92bf-bbda440bc581",
   "metadata": {},
   "source": [
    "#### 2.1 Exploration"
   ]
  },
  {
   "cell_type": "code",
   "execution_count": 7,
   "id": "4d37e930-1976-4118-b1bb-8e6c339e3b59",
   "metadata": {},
   "outputs": [
    {
     "name": "stdout",
     "output_type": "stream",
     "text": [
      "Initial train shape:  (46985090, 10)\n"
     ]
    }
   ],
   "source": [
    "print('Initial train shape: ', df_data.shape)"
   ]
  },
  {
   "cell_type": "code",
   "execution_count": 8,
   "id": "64e971a9-c745-432e-9d75-7ad05ded9842",
   "metadata": {},
   "outputs": [
    {
     "name": "stdout",
     "output_type": "stream",
     "text": [
      "<class 'pandas.core.frame.DataFrame'>\n",
      "Index: 46985090 entries, 0 to 46985089\n",
      "Data columns (total 10 columns):\n",
      " #   Column      Dtype  \n",
      "---  ------      -----  \n",
      " 0   id          object \n",
      " 1   item_id     object \n",
      " 2   dept_id     object \n",
      " 3   cat_id      object \n",
      " 4   store_id    object \n",
      " 5   state_id    object \n",
      " 6   sales_qty   int64  \n",
      " 7   date        object \n",
      " 8   wm_yr_wk    int64  \n",
      " 9   sell_price  float64\n",
      "dtypes: float64(1), int64(2), object(7)\n",
      "memory usage: 3.9+ GB\n"
     ]
    }
   ],
   "source": [
    "df_data.info()"
   ]
  },
  {
   "cell_type": "code",
   "execution_count": 9,
   "id": "f35e8f03-663a-4bd3-b7b7-4416ad35f95f",
   "metadata": {},
   "outputs": [
    {
     "data": {
      "text/html": [
       "<div>\n",
       "<style scoped>\n",
       "    .dataframe tbody tr th:only-of-type {\n",
       "        vertical-align: middle;\n",
       "    }\n",
       "\n",
       "    .dataframe tbody tr th {\n",
       "        vertical-align: top;\n",
       "    }\n",
       "\n",
       "    .dataframe thead th {\n",
       "        text-align: right;\n",
       "    }\n",
       "</style>\n",
       "<table border=\"1\" class=\"dataframe\">\n",
       "  <thead>\n",
       "    <tr style=\"text-align: right;\">\n",
       "      <th></th>\n",
       "      <th>id</th>\n",
       "      <th>item_id</th>\n",
       "      <th>dept_id</th>\n",
       "      <th>cat_id</th>\n",
       "      <th>store_id</th>\n",
       "      <th>state_id</th>\n",
       "      <th>sales_qty</th>\n",
       "      <th>date</th>\n",
       "      <th>wm_yr_wk</th>\n",
       "      <th>sell_price</th>\n",
       "    </tr>\n",
       "  </thead>\n",
       "  <tbody>\n",
       "  </tbody>\n",
       "</table>\n",
       "</div>"
      ],
      "text/plain": [
       "Empty DataFrame\n",
       "Columns: [id, item_id, dept_id, cat_id, store_id, state_id, sales_qty, date, wm_yr_wk, sell_price]\n",
       "Index: []"
      ]
     },
     "execution_count": 9,
     "metadata": {},
     "output_type": "execute_result"
    }
   ],
   "source": [
    "# check for duplicates\n",
    "df_data[df_data.duplicated]"
   ]
  },
  {
   "cell_type": "code",
   "execution_count": 10,
   "id": "93ea9e01-dda3-4cab-9105-8d0058330266",
   "metadata": {},
   "outputs": [
    {
     "data": {
      "text/plain": [
       "id            0\n",
       "item_id       0\n",
       "dept_id       0\n",
       "cat_id        0\n",
       "store_id      0\n",
       "state_id      0\n",
       "sales_qty     0\n",
       "date          0\n",
       "wm_yr_wk      0\n",
       "sell_price    0\n",
       "dtype: int64"
      ]
     },
     "execution_count": 10,
     "metadata": {},
     "output_type": "execute_result"
    }
   ],
   "source": [
    "df_data.isna().sum()"
   ]
  },
  {
   "cell_type": "markdown",
   "id": "8cd188bf-4feb-4614-acc6-b555ad4a177b",
   "metadata": {},
   "source": [
    "#### 2.2 Preprocessing"
   ]
  },
  {
   "cell_type": "code",
   "execution_count": 11,
   "id": "7575ca60-679b-481c-aae2-46ba0c2602fb",
   "metadata": {},
   "outputs": [],
   "source": [
    "# split the dataset for initial EDA\n",
    "df_data['date'] = pd.to_datetime(df_data['date'])\n",
    "\n",
    "date_filter = (df_data['date'] >= '2014-01-01') & (df_data['date'] <= '2015-12-31')\n",
    "df_explore = df_data[date_filter]\n",
    "\n",
    "del(df_data)"
   ]
  },
  {
   "cell_type": "code",
   "execution_count": 12,
   "id": "f87eaa56-fefc-4289-b042-6ac3a10651a3",
   "metadata": {},
   "outputs": [
    {
     "data": {
      "text/html": [
       "<div>\n",
       "<style scoped>\n",
       "    .dataframe tbody tr th:only-of-type {\n",
       "        vertical-align: middle;\n",
       "    }\n",
       "\n",
       "    .dataframe tbody tr th {\n",
       "        vertical-align: top;\n",
       "    }\n",
       "\n",
       "    .dataframe thead th {\n",
       "        text-align: right;\n",
       "    }\n",
       "</style>\n",
       "<table border=\"1\" class=\"dataframe\">\n",
       "  <thead>\n",
       "    <tr style=\"text-align: right;\">\n",
       "      <th></th>\n",
       "      <th>sales_qty</th>\n",
       "      <th>date</th>\n",
       "      <th>wm_yr_wk</th>\n",
       "      <th>sell_price</th>\n",
       "    </tr>\n",
       "  </thead>\n",
       "  <tbody>\n",
       "    <tr>\n",
       "      <th>count</th>\n",
       "      <td>1.442177e+07</td>\n",
       "      <td>14421770</td>\n",
       "      <td>1.442177e+07</td>\n",
       "      <td>1.442177e+07</td>\n",
       "    </tr>\n",
       "    <tr>\n",
       "      <th>mean</th>\n",
       "      <td>1.179144e+00</td>\n",
       "      <td>2014-08-25 00:00:00.000001536</td>\n",
       "      <td>1.143469e+04</td>\n",
       "      <td>4.458231e+00</td>\n",
       "    </tr>\n",
       "    <tr>\n",
       "      <th>min</th>\n",
       "      <td>0.000000e+00</td>\n",
       "      <td>2014-01-01 00:00:00</td>\n",
       "      <td>1.134900e+04</td>\n",
       "      <td>1.000000e-02</td>\n",
       "    </tr>\n",
       "    <tr>\n",
       "      <th>25%</th>\n",
       "      <td>0.000000e+00</td>\n",
       "      <td>2014-04-29 00:00:00</td>\n",
       "      <td>1.141300e+04</td>\n",
       "      <td>2.180000e+00</td>\n",
       "    </tr>\n",
       "    <tr>\n",
       "      <th>50%</th>\n",
       "      <td>0.000000e+00</td>\n",
       "      <td>2014-08-25 00:00:00</td>\n",
       "      <td>1.143000e+04</td>\n",
       "      <td>3.480000e+00</td>\n",
       "    </tr>\n",
       "    <tr>\n",
       "      <th>75%</th>\n",
       "      <td>1.000000e+00</td>\n",
       "      <td>2014-12-21 00:00:00</td>\n",
       "      <td>1.144700e+04</td>\n",
       "      <td>5.840000e+00</td>\n",
       "    </tr>\n",
       "    <tr>\n",
       "      <th>max</th>\n",
       "      <td>6.060000e+02</td>\n",
       "      <td>2015-04-18 00:00:00</td>\n",
       "      <td>1.151200e+04</td>\n",
       "      <td>4.878000e+01</td>\n",
       "    </tr>\n",
       "    <tr>\n",
       "      <th>std</th>\n",
       "      <td>3.632711e+00</td>\n",
       "      <td>NaN</td>\n",
       "      <td>3.903018e+01</td>\n",
       "      <td>3.513634e+00</td>\n",
       "    </tr>\n",
       "  </tbody>\n",
       "</table>\n",
       "</div>"
      ],
      "text/plain": [
       "          sales_qty                           date      wm_yr_wk    sell_price\n",
       "count  1.442177e+07                       14421770  1.442177e+07  1.442177e+07\n",
       "mean   1.179144e+00  2014-08-25 00:00:00.000001536  1.143469e+04  4.458231e+00\n",
       "min    0.000000e+00            2014-01-01 00:00:00  1.134900e+04  1.000000e-02\n",
       "25%    0.000000e+00            2014-04-29 00:00:00  1.141300e+04  2.180000e+00\n",
       "50%    0.000000e+00            2014-08-25 00:00:00  1.143000e+04  3.480000e+00\n",
       "75%    1.000000e+00            2014-12-21 00:00:00  1.144700e+04  5.840000e+00\n",
       "max    6.060000e+02            2015-04-18 00:00:00  1.151200e+04  4.878000e+01\n",
       "std    3.632711e+00                            NaN  3.903018e+01  3.513634e+00"
      ]
     },
     "execution_count": 12,
     "metadata": {},
     "output_type": "execute_result"
    }
   ],
   "source": [
    "df_explore.describe()"
   ]
  },
  {
   "cell_type": "code",
   "execution_count": 13,
   "id": "ace2816b-0532-4080-bbb4-124d1975a36d",
   "metadata": {},
   "outputs": [
    {
     "name": "stdout",
     "output_type": "stream",
     "text": [
      "Random sample dataset:  (14421770, 10)\n"
     ]
    },
    {
     "data": {
      "text/html": [
       "<div>\n",
       "<style scoped>\n",
       "    .dataframe tbody tr th:only-of-type {\n",
       "        vertical-align: middle;\n",
       "    }\n",
       "\n",
       "    .dataframe tbody tr th {\n",
       "        vertical-align: top;\n",
       "    }\n",
       "\n",
       "    .dataframe thead th {\n",
       "        text-align: right;\n",
       "    }\n",
       "</style>\n",
       "<table border=\"1\" class=\"dataframe\">\n",
       "  <thead>\n",
       "    <tr style=\"text-align: right;\">\n",
       "      <th></th>\n",
       "      <th>id</th>\n",
       "      <th>item_id</th>\n",
       "      <th>dept_id</th>\n",
       "      <th>cat_id</th>\n",
       "      <th>store_id</th>\n",
       "      <th>state_id</th>\n",
       "      <th>sales_qty</th>\n",
       "      <th>date</th>\n",
       "      <th>wm_yr_wk</th>\n",
       "      <th>sell_price</th>\n",
       "    </tr>\n",
       "  </thead>\n",
       "  <tbody>\n",
       "    <tr>\n",
       "      <th>32563320</th>\n",
       "      <td>HOBBIES_1_001_CA_1_evaluation</td>\n",
       "      <td>HOBBIES_1_001</td>\n",
       "      <td>HOBBIES_1</td>\n",
       "      <td>HOBBIES</td>\n",
       "      <td>CA_1</td>\n",
       "      <td>CA</td>\n",
       "      <td>1</td>\n",
       "      <td>2014-01-01</td>\n",
       "      <td>11349</td>\n",
       "      <td>8.26</td>\n",
       "    </tr>\n",
       "    <tr>\n",
       "      <th>32563321</th>\n",
       "      <td>HOBBIES_1_002_CA_1_evaluation</td>\n",
       "      <td>HOBBIES_1_002</td>\n",
       "      <td>HOBBIES_1</td>\n",
       "      <td>HOBBIES</td>\n",
       "      <td>CA_1</td>\n",
       "      <td>CA</td>\n",
       "      <td>0</td>\n",
       "      <td>2014-01-01</td>\n",
       "      <td>11349</td>\n",
       "      <td>3.97</td>\n",
       "    </tr>\n",
       "    <tr>\n",
       "      <th>32563322</th>\n",
       "      <td>HOBBIES_1_003_CA_1_evaluation</td>\n",
       "      <td>HOBBIES_1_003</td>\n",
       "      <td>HOBBIES_1</td>\n",
       "      <td>HOBBIES</td>\n",
       "      <td>CA_1</td>\n",
       "      <td>CA</td>\n",
       "      <td>0</td>\n",
       "      <td>2014-01-01</td>\n",
       "      <td>11349</td>\n",
       "      <td>2.97</td>\n",
       "    </tr>\n",
       "    <tr>\n",
       "      <th>32563323</th>\n",
       "      <td>HOBBIES_1_004_CA_1_evaluation</td>\n",
       "      <td>HOBBIES_1_004</td>\n",
       "      <td>HOBBIES_1</td>\n",
       "      <td>HOBBIES</td>\n",
       "      <td>CA_1</td>\n",
       "      <td>CA</td>\n",
       "      <td>2</td>\n",
       "      <td>2014-01-01</td>\n",
       "      <td>11349</td>\n",
       "      <td>4.64</td>\n",
       "    </tr>\n",
       "    <tr>\n",
       "      <th>32563324</th>\n",
       "      <td>HOBBIES_1_005_CA_1_evaluation</td>\n",
       "      <td>HOBBIES_1_005</td>\n",
       "      <td>HOBBIES_1</td>\n",
       "      <td>HOBBIES</td>\n",
       "      <td>CA_1</td>\n",
       "      <td>CA</td>\n",
       "      <td>1</td>\n",
       "      <td>2014-01-01</td>\n",
       "      <td>11349</td>\n",
       "      <td>3.08</td>\n",
       "    </tr>\n",
       "  </tbody>\n",
       "</table>\n",
       "</div>"
      ],
      "text/plain": [
       "                                     id        item_id    dept_id   cat_id  \\\n",
       "32563320  HOBBIES_1_001_CA_1_evaluation  HOBBIES_1_001  HOBBIES_1  HOBBIES   \n",
       "32563321  HOBBIES_1_002_CA_1_evaluation  HOBBIES_1_002  HOBBIES_1  HOBBIES   \n",
       "32563322  HOBBIES_1_003_CA_1_evaluation  HOBBIES_1_003  HOBBIES_1  HOBBIES   \n",
       "32563323  HOBBIES_1_004_CA_1_evaluation  HOBBIES_1_004  HOBBIES_1  HOBBIES   \n",
       "32563324  HOBBIES_1_005_CA_1_evaluation  HOBBIES_1_005  HOBBIES_1  HOBBIES   \n",
       "\n",
       "         store_id state_id  sales_qty       date  wm_yr_wk  sell_price  \n",
       "32563320     CA_1       CA          1 2014-01-01     11349        8.26  \n",
       "32563321     CA_1       CA          0 2014-01-01     11349        3.97  \n",
       "32563322     CA_1       CA          0 2014-01-01     11349        2.97  \n",
       "32563323     CA_1       CA          2 2014-01-01     11349        4.64  \n",
       "32563324     CA_1       CA          1 2014-01-01     11349        3.08  "
      ]
     },
     "execution_count": 13,
     "metadata": {},
     "output_type": "execute_result"
    }
   ],
   "source": [
    "print('Random sample dataset: ', df_explore.shape)\n",
    "df_explore.head()"
   ]
  },
  {
   "cell_type": "code",
   "execution_count": 14,
   "id": "8a589012-b2b1-4127-969f-93b2f61a0375",
   "metadata": {},
   "outputs": [],
   "source": [
    "# assessment brief features: date, store_id, item_id\n",
    "\n",
    "# categorical columns\n",
    "cat_cols = ['item_id','store_id']\n",
    "\n",
    "# unique columns\n",
    "uniq_cols = ['id']\n",
    "\n",
    "# cols to drop\n",
    "drop_cols_targets = ['sales_qty', 'sell_price']\n",
    "\n",
    "drop_cols = ['dept_id', 'cat_id', 'state_id']\n",
    "\n",
    "# dropped features from feature impact analysis\n",
    "# drop_feats = ['porpag', 'drtg', 'twoP_per', 'dbpm', 'obpm', 'bpm', 'FTM', 'type', 'TPM']\n",
    "                  "
   ]
  },
  {
   "cell_type": "markdown",
   "id": "abaaabc7-5583-42d4-a6c8-2fc5c7d725cf",
   "metadata": {},
   "source": [
    "### 3. Explore Target variable"
   ]
  },
  {
   "cell_type": "code",
   "execution_count": 15,
   "id": "76391a60-d92b-48a4-bd08-bb28ad53fade",
   "metadata": {},
   "outputs": [],
   "source": [
    "target = 'sales_rev'"
   ]
  },
  {
   "cell_type": "code",
   "execution_count": 16,
   "id": "7e2375ae-58cb-4a46-b051-5bc19300cd4a",
   "metadata": {},
   "outputs": [],
   "source": [
    "df_explore[target] = df_explore['sales_qty'] * df_explore['sell_price']"
   ]
  },
  {
   "cell_type": "code",
   "execution_count": 17,
   "id": "4d0e465b-c0de-400d-89a0-8a869fbb3ce0",
   "metadata": {},
   "outputs": [],
   "source": [
    "df_explore.drop(uniq_cols + drop_cols + drop_cols_targets, axis=1, inplace=True)"
   ]
  },
  {
   "cell_type": "code",
   "execution_count": 18,
   "id": "e3554d70-f1e9-44e3-8fab-47aa0d950c33",
   "metadata": {},
   "outputs": [
    {
     "data": {
      "text/plain": [
       "count    1.442177e+07\n",
       "mean     3.463408e+00\n",
       "std      9.604365e+00\n",
       "min      0.000000e+00\n",
       "25%      0.000000e+00\n",
       "50%      0.000000e+00\n",
       "75%      3.880000e+00\n",
       "max      1.618380e+03\n",
       "Name: sales_rev, dtype: float64"
      ]
     },
     "execution_count": 18,
     "metadata": {},
     "output_type": "execute_result"
    }
   ],
   "source": [
    "df_explore[target].describe()"
   ]
  },
  {
   "cell_type": "code",
   "execution_count": 19,
   "id": "33311b3d-79db-4c91-8ed8-28fc91f6a115",
   "metadata": {},
   "outputs": [
    {
     "data": {
      "image/png": "[encoded data removed]",
      "text/plain": [
       "<Figure size 2000x500 with 2 Axes>"
      ]
     },
     "metadata": {},
     "output_type": "display_data"
    }
   ],
   "source": [
    "fig, ax = plt.subplots(1,2,figsize=(20,5))\n",
    "ax = ax.flatten()\n",
    "\n",
    "sns.boxplot(df_explore[target], ax=ax[0])\n",
    "sns.histplot(df_explore[target], ax=ax[1])\n",
    "\n",
    "plt.ticklabel_format(style='plain')\n",
    "plt.show()"
   ]
  },
  {
   "cell_type": "markdown",
   "id": "4e73abc9-07f6-439a-a678-54cb598f5c7e",
   "metadata": {},
   "source": [
    "The revenue distribution is heavily skewed towards 0. This is expected as the dataset includes daily sales for all items across the whole company."
   ]
  },
  {
   "cell_type": "markdown",
   "id": "b0c71863-5318-4b3f-9dda-df073b077d34",
   "metadata": {},
   "source": [
    "### 4. Explore Features"
   ]
  },
  {
   "cell_type": "code",
   "execution_count": 20,
   "id": "42df6a21-a3d8-40bf-8b3f-642cac574abf",
   "metadata": {},
   "outputs": [
    {
     "data": {
      "text/html": [
       "<div>\n",
       "<style scoped>\n",
       "    .dataframe tbody tr th:only-of-type {\n",
       "        vertical-align: middle;\n",
       "    }\n",
       "\n",
       "    .dataframe tbody tr th {\n",
       "        vertical-align: top;\n",
       "    }\n",
       "\n",
       "    .dataframe thead th {\n",
       "        text-align: right;\n",
       "    }\n",
       "</style>\n",
       "<table border=\"1\" class=\"dataframe\">\n",
       "  <thead>\n",
       "    <tr style=\"text-align: right;\">\n",
       "      <th></th>\n",
       "      <th>item_id</th>\n",
       "      <th>store_id</th>\n",
       "      <th>date</th>\n",
       "      <th>wm_yr_wk</th>\n",
       "      <th>sales_rev</th>\n",
       "    </tr>\n",
       "  </thead>\n",
       "  <tbody>\n",
       "    <tr>\n",
       "      <th>32563320</th>\n",
       "      <td>HOBBIES_1_001</td>\n",
       "      <td>CA_1</td>\n",
       "      <td>2014-01-01</td>\n",
       "      <td>11349</td>\n",
       "      <td>8.26</td>\n",
       "    </tr>\n",
       "    <tr>\n",
       "      <th>32563321</th>\n",
       "      <td>HOBBIES_1_002</td>\n",
       "      <td>CA_1</td>\n",
       "      <td>2014-01-01</td>\n",
       "      <td>11349</td>\n",
       "      <td>0.00</td>\n",
       "    </tr>\n",
       "    <tr>\n",
       "      <th>32563322</th>\n",
       "      <td>HOBBIES_1_003</td>\n",
       "      <td>CA_1</td>\n",
       "      <td>2014-01-01</td>\n",
       "      <td>11349</td>\n",
       "      <td>0.00</td>\n",
       "    </tr>\n",
       "    <tr>\n",
       "      <th>32563323</th>\n",
       "      <td>HOBBIES_1_004</td>\n",
       "      <td>CA_1</td>\n",
       "      <td>2014-01-01</td>\n",
       "      <td>11349</td>\n",
       "      <td>9.28</td>\n",
       "    </tr>\n",
       "    <tr>\n",
       "      <th>32563324</th>\n",
       "      <td>HOBBIES_1_005</td>\n",
       "      <td>CA_1</td>\n",
       "      <td>2014-01-01</td>\n",
       "      <td>11349</td>\n",
       "      <td>3.08</td>\n",
       "    </tr>\n",
       "  </tbody>\n",
       "</table>\n",
       "</div>"
      ],
      "text/plain": [
       "                item_id store_id       date  wm_yr_wk  sales_rev\n",
       "32563320  HOBBIES_1_001     CA_1 2014-01-01     11349       8.26\n",
       "32563321  HOBBIES_1_002     CA_1 2014-01-01     11349       0.00\n",
       "32563322  HOBBIES_1_003     CA_1 2014-01-01     11349       0.00\n",
       "32563323  HOBBIES_1_004     CA_1 2014-01-01     11349       9.28\n",
       "32563324  HOBBIES_1_005     CA_1 2014-01-01     11349       3.08"
      ]
     },
     "execution_count": 20,
     "metadata": {},
     "output_type": "execute_result"
    }
   ],
   "source": [
    "df_explore.head()"
   ]
  },
  {
   "cell_type": "markdown",
   "id": "11bb5549-0664-4ade-a588-6876c270e3a9",
   "metadata": {},
   "source": [
    "#### Week Month Year Week"
   ]
  },
  {
   "cell_type": "code",
   "execution_count": 21,
   "id": "a3e940fe-8ceb-482a-ab56-a4fe87a4bd41",
   "metadata": {},
   "outputs": [
    {
     "data": {
      "text/plain": [
       "<Axes: xlabel='wm_yr_wk', ylabel='sales_rev'>"
      ]
     },
     "execution_count": 21,
     "metadata": {},
     "output_type": "execute_result"
    },
    {
     "data": {
      "image/png": "[encoded data removed]",
      "text/plain": [
       "<Figure size 640x480 with 1 Axes>"
      ]
     },
     "metadata": {},
     "output_type": "display_data"
    }
   ],
   "source": [
    "sns.lineplot(df_explore.groupby('wm_yr_wk')[target].sum().sort_index())"
   ]
  },
  {
   "cell_type": "markdown",
   "id": "25794ba0-3e7a-4f8e-9b3c-227a538e60ff",
   "metadata": {},
   "source": [
    "There indeed is some weekly pattern present in the data. However, how the week ID was generated is not clearly defined. Will need to create a function to recreate this for unseen dates in the API. \n",
    "\n",
    "Dropoffs are expected of sampling where the data was not cut perfectly into the week."
   ]
  },
  {
   "cell_type": "code",
   "execution_count": 22,
   "id": "93c91f2b-f9b7-4ffb-afcd-156613c43d84",
   "metadata": {},
   "outputs": [
    {
     "data": {
      "text/html": [
       "<div>\n",
       "<style scoped>\n",
       "    .dataframe tbody tr th:only-of-type {\n",
       "        vertical-align: middle;\n",
       "    }\n",
       "\n",
       "    .dataframe tbody tr th {\n",
       "        vertical-align: top;\n",
       "    }\n",
       "\n",
       "    .dataframe thead th {\n",
       "        text-align: right;\n",
       "    }\n",
       "</style>\n",
       "<table border=\"1\" class=\"dataframe\">\n",
       "  <thead>\n",
       "    <tr style=\"text-align: right;\">\n",
       "      <th></th>\n",
       "      <th>wm_yr_wk</th>\n",
       "      <th>date</th>\n",
       "    </tr>\n",
       "  </thead>\n",
       "  <tbody>\n",
       "    <tr>\n",
       "      <th>32654790</th>\n",
       "      <td>11350</td>\n",
       "      <td>2014-01-04</td>\n",
       "    </tr>\n",
       "    <tr>\n",
       "      <th>32685280</th>\n",
       "      <td>11350</td>\n",
       "      <td>2014-01-05</td>\n",
       "    </tr>\n",
       "    <tr>\n",
       "      <th>32715770</th>\n",
       "      <td>11350</td>\n",
       "      <td>2014-01-06</td>\n",
       "    </tr>\n",
       "    <tr>\n",
       "      <th>32746260</th>\n",
       "      <td>11350</td>\n",
       "      <td>2014-01-07</td>\n",
       "    </tr>\n",
       "    <tr>\n",
       "      <th>32776750</th>\n",
       "      <td>11350</td>\n",
       "      <td>2014-01-08</td>\n",
       "    </tr>\n",
       "    <tr>\n",
       "      <th>32807240</th>\n",
       "      <td>11350</td>\n",
       "      <td>2014-01-09</td>\n",
       "    </tr>\n",
       "    <tr>\n",
       "      <th>32837730</th>\n",
       "      <td>11350</td>\n",
       "      <td>2014-01-10</td>\n",
       "    </tr>\n",
       "  </tbody>\n",
       "</table>\n",
       "</div>"
      ],
      "text/plain": [
       "          wm_yr_wk       date\n",
       "32654790     11350 2014-01-04\n",
       "32685280     11350 2014-01-05\n",
       "32715770     11350 2014-01-06\n",
       "32746260     11350 2014-01-07\n",
       "32776750     11350 2014-01-08\n",
       "32807240     11350 2014-01-09\n",
       "32837730     11350 2014-01-10"
      ]
     },
     "execution_count": 22,
     "metadata": {},
     "output_type": "execute_result"
    }
   ],
   "source": [
    "df_explore[df_explore['wm_yr_wk'] == 11350][['wm_yr_wk', 'date']].drop_duplicates()"
   ]
  },
  {
   "cell_type": "code",
   "execution_count": 23,
   "id": "32a1b049-47bc-4449-a1d4-11bf51cef075",
   "metadata": {},
   "outputs": [
    {
     "data": {
      "text/html": [
       "<div>\n",
       "<style scoped>\n",
       "    .dataframe tbody tr th:only-of-type {\n",
       "        vertical-align: middle;\n",
       "    }\n",
       "\n",
       "    .dataframe tbody tr th {\n",
       "        vertical-align: top;\n",
       "    }\n",
       "\n",
       "    .dataframe thead th {\n",
       "        text-align: right;\n",
       "    }\n",
       "</style>\n",
       "<table border=\"1\" class=\"dataframe\">\n",
       "  <thead>\n",
       "    <tr style=\"text-align: right;\">\n",
       "      <th></th>\n",
       "      <th>wm_yr_wk</th>\n",
       "      <th>date</th>\n",
       "    </tr>\n",
       "  </thead>\n",
       "  <tbody>\n",
       "    <tr>\n",
       "      <th>32868220</th>\n",
       "      <td>11351</td>\n",
       "      <td>2014-01-11</td>\n",
       "    </tr>\n",
       "    <tr>\n",
       "      <th>32898710</th>\n",
       "      <td>11351</td>\n",
       "      <td>2014-01-12</td>\n",
       "    </tr>\n",
       "    <tr>\n",
       "      <th>32929200</th>\n",
       "      <td>11351</td>\n",
       "      <td>2014-01-13</td>\n",
       "    </tr>\n",
       "    <tr>\n",
       "      <th>32959690</th>\n",
       "      <td>11351</td>\n",
       "      <td>2014-01-14</td>\n",
       "    </tr>\n",
       "    <tr>\n",
       "      <th>32990180</th>\n",
       "      <td>11351</td>\n",
       "      <td>2014-01-15</td>\n",
       "    </tr>\n",
       "    <tr>\n",
       "      <th>33020670</th>\n",
       "      <td>11351</td>\n",
       "      <td>2014-01-16</td>\n",
       "    </tr>\n",
       "    <tr>\n",
       "      <th>33051160</th>\n",
       "      <td>11351</td>\n",
       "      <td>2014-01-17</td>\n",
       "    </tr>\n",
       "  </tbody>\n",
       "</table>\n",
       "</div>"
      ],
      "text/plain": [
       "          wm_yr_wk       date\n",
       "32868220     11351 2014-01-11\n",
       "32898710     11351 2014-01-12\n",
       "32929200     11351 2014-01-13\n",
       "32959690     11351 2014-01-14\n",
       "32990180     11351 2014-01-15\n",
       "33020670     11351 2014-01-16\n",
       "33051160     11351 2014-01-17"
      ]
     },
     "execution_count": 23,
     "metadata": {},
     "output_type": "execute_result"
    }
   ],
   "source": [
    "df_explore[df_explore['wm_yr_wk'] == 11351][['wm_yr_wk', 'date']].drop_duplicates()"
   ]
  },
  {
   "cell_type": "code",
   "execution_count": 24,
   "id": "2300d37c-0204-4c74-a37a-b498eb07daae",
   "metadata": {},
   "outputs": [],
   "source": [
    "import datetime\n",
    "import math\n",
    "\n",
    "def wk_id_generator(date: str):\n",
    "    benchmark_date = datetime.datetime.strptime('2014-01-04', '%Y-%m-%d')\n",
    "    benchmark_wk = 11350\n",
    "    \n",
    "    days_diff = (datetime.datetime.strptime(date, '%Y-%m-%d') - benchmark_date).days\n",
    "    week_diff = math.floor(days_diff/7)\n",
    "    wk_id = benchmark_wk + week_diff\n",
    "\n",
    "    return wk_id\n",
    "    "
   ]
  },
  {
   "cell_type": "code",
   "execution_count": 25,
   "id": "cba6d8a7-c3a0-4b49-ab05-b4f5a159c920",
   "metadata": {},
   "outputs": [
    {
     "data": {
      "text/plain": [
       "11349"
      ]
     },
     "execution_count": 25,
     "metadata": {},
     "output_type": "execute_result"
    }
   ],
   "source": [
    "wk_id_generator('2014-01-01')"
   ]
  },
  {
   "cell_type": "markdown",
   "id": "f242d88b-2589-47c3-ab3f-7c59dffddcb7",
   "metadata": {},
   "source": [
    "#### Categorical Features v Target"
   ]
  },
  {
   "cell_type": "code",
   "execution_count": 66,
   "id": "6b65eb7d-005f-4ffd-aaa1-016c31d0d1c6",
   "metadata": {},
   "outputs": [],
   "source": [
    "# from my_krml_24618288.features.cat_eda_display import plot_categ_feats"
   ]
  },
  {
   "cell_type": "markdown",
   "id": "7854379a-ebf8-4597-b36e-9de71c1d0028",
   "metadata": {},
   "source": [
    "#### Day of Week"
   ]
  },
  {
   "cell_type": "code",
   "execution_count": 26,
   "id": "55690583-a847-48dc-aa91-f58c3a61409c",
   "metadata": {},
   "outputs": [],
   "source": [
    "df_explore['day_of_week'] = df_explore['date'].dt.dayofweek"
   ]
  },
  {
   "cell_type": "code",
   "execution_count": 27,
   "id": "332a6429-83c8-4fda-85fd-0b89f8bd2848",
   "metadata": {},
   "outputs": [
    {
     "data": {
      "text/plain": [
       "<Axes: xlabel='day_of_week'>"
      ]
     },
     "execution_count": 27,
     "metadata": {},
     "output_type": "execute_result"
    },
    {
     "data": {
      "image/png": "[encoded data removed]",
      "text/plain": [
       "<Figure size 640x480 with 1 Axes>"
      ]
     },
     "metadata": {},
     "output_type": "display_data"
    }
   ],
   "source": [
    "df_explore.groupby(['day_of_week'])[target].mean().plot(kind='bar')"
   ]
  },
  {
   "cell_type": "markdown",
   "id": "4c6247cf-09ff-4f34-979a-a5558b28c18e",
   "metadata": {},
   "source": [
    "Some variation in day of week. Generally lowest from Monday to Wed, picks up Thursday, higher sales on Friday and Sat, then drops down by Sunday"
   ]
  },
  {
   "cell_type": "markdown",
   "id": "579359bb-8456-49b5-a3ad-bb635a32f00a",
   "metadata": {},
   "source": [
    "#### Is Holiday"
   ]
  },
  {
   "cell_type": "code",
   "execution_count": 28,
   "id": "fe58fd31-0046-4510-878c-00d7d5b7be34",
   "metadata": {},
   "outputs": [
    {
     "data": {
      "text/html": [
       "<div>\n",
       "<style scoped>\n",
       "    .dataframe tbody tr th:only-of-type {\n",
       "        vertical-align: middle;\n",
       "    }\n",
       "\n",
       "    .dataframe tbody tr th {\n",
       "        vertical-align: top;\n",
       "    }\n",
       "\n",
       "    .dataframe thead th {\n",
       "        text-align: right;\n",
       "    }\n",
       "</style>\n",
       "<table border=\"1\" class=\"dataframe\">\n",
       "  <thead>\n",
       "    <tr style=\"text-align: right;\">\n",
       "      <th></th>\n",
       "      <th>date</th>\n",
       "      <th>event_name</th>\n",
       "      <th>event_type</th>\n",
       "    </tr>\n",
       "  </thead>\n",
       "  <tbody>\n",
       "    <tr>\n",
       "      <th>0</th>\n",
       "      <td>2011-02-06</td>\n",
       "      <td>SuperBowl</td>\n",
       "      <td>Sporting</td>\n",
       "    </tr>\n",
       "    <tr>\n",
       "      <th>1</th>\n",
       "      <td>2011-02-14</td>\n",
       "      <td>ValentinesDay</td>\n",
       "      <td>Cultural</td>\n",
       "    </tr>\n",
       "    <tr>\n",
       "      <th>2</th>\n",
       "      <td>2011-02-21</td>\n",
       "      <td>PresidentsDay</td>\n",
       "      <td>National</td>\n",
       "    </tr>\n",
       "    <tr>\n",
       "      <th>3</th>\n",
       "      <td>2011-03-09</td>\n",
       "      <td>LentStart</td>\n",
       "      <td>Religious</td>\n",
       "    </tr>\n",
       "    <tr>\n",
       "      <th>4</th>\n",
       "      <td>2011-03-16</td>\n",
       "      <td>LentWeek2</td>\n",
       "      <td>Religious</td>\n",
       "    </tr>\n",
       "  </tbody>\n",
       "</table>\n",
       "</div>"
      ],
      "text/plain": [
       "         date     event_name event_type\n",
       "0  2011-02-06      SuperBowl   Sporting\n",
       "1  2011-02-14  ValentinesDay   Cultural\n",
       "2  2011-02-21  PresidentsDay   National\n",
       "3  2011-03-09      LentStart  Religious\n",
       "4  2011-03-16      LentWeek2  Religious"
      ]
     },
     "execution_count": 28,
     "metadata": {},
     "output_type": "execute_result"
    }
   ],
   "source": [
    "df_calendar_events = pd.read_csv('../../data/raw/calendar_events.csv')\n",
    "df_calendar_events.head()"
   ]
  },
  {
   "cell_type": "code",
   "execution_count": 29,
   "id": "9f37dc76-63fa-494c-acf7-51aeeddb7af8",
   "metadata": {},
   "outputs": [
    {
     "data": {
      "text/plain": [
       "np.int64(0)"
      ]
     },
     "execution_count": 29,
     "metadata": {},
     "output_type": "execute_result"
    }
   ],
   "source": [
    "df_calendar_events.duplicated().sum()"
   ]
  },
  {
   "cell_type": "code",
   "execution_count": 30,
   "id": "23094fa0-8fde-4192-9e9d-6563afa11b93",
   "metadata": {},
   "outputs": [
    {
     "data": {
      "text/plain": [
       "np.int64(5)"
      ]
     },
     "execution_count": 30,
     "metadata": {},
     "output_type": "execute_result"
    }
   ],
   "source": [
    "# dates with more than one events\n",
    "df_calendar_events.date.duplicated().sum()"
   ]
  },
  {
   "cell_type": "code",
   "execution_count": 31,
   "id": "ffede02f-6251-459d-85b1-30956e719fba",
   "metadata": {},
   "outputs": [],
   "source": [
    "df_calendar_events['date'] = pd.to_datetime(df_calendar_events['date'])"
   ]
  },
  {
   "cell_type": "code",
   "execution_count": 32,
   "id": "6fa79241-33b6-486a-8eaa-e4abccf63813",
   "metadata": {},
   "outputs": [
    {
     "data": {
      "text/plain": [
       "4"
      ]
     },
     "execution_count": 32,
     "metadata": {},
     "output_type": "execute_result"
    }
   ],
   "source": [
    "df_calendar_events['event_type'].nunique()"
   ]
  },
  {
   "cell_type": "code",
   "execution_count": 33,
   "id": "357ae06d-727a-4f87-9942-3498e1843ced",
   "metadata": {},
   "outputs": [
    {
     "data": {
      "text/html": [
       "<div>\n",
       "<style scoped>\n",
       "    .dataframe tbody tr th:only-of-type {\n",
       "        vertical-align: middle;\n",
       "    }\n",
       "\n",
       "    .dataframe tbody tr th {\n",
       "        vertical-align: top;\n",
       "    }\n",
       "\n",
       "    .dataframe thead th {\n",
       "        text-align: right;\n",
       "    }\n",
       "</style>\n",
       "<table border=\"1\" class=\"dataframe\">\n",
       "  <thead>\n",
       "    <tr style=\"text-align: right;\">\n",
       "      <th>event_type</th>\n",
       "      <th>Cultural</th>\n",
       "      <th>National</th>\n",
       "      <th>Religious</th>\n",
       "      <th>Sporting</th>\n",
       "    </tr>\n",
       "    <tr>\n",
       "      <th>date</th>\n",
       "      <th></th>\n",
       "      <th></th>\n",
       "      <th></th>\n",
       "      <th></th>\n",
       "    </tr>\n",
       "  </thead>\n",
       "  <tbody>\n",
       "    <tr>\n",
       "      <th>2011-02-06</th>\n",
       "      <td>0</td>\n",
       "      <td>0</td>\n",
       "      <td>0</td>\n",
       "      <td>1</td>\n",
       "    </tr>\n",
       "    <tr>\n",
       "      <th>2011-02-14</th>\n",
       "      <td>1</td>\n",
       "      <td>0</td>\n",
       "      <td>0</td>\n",
       "      <td>0</td>\n",
       "    </tr>\n",
       "    <tr>\n",
       "      <th>2011-02-21</th>\n",
       "      <td>0</td>\n",
       "      <td>1</td>\n",
       "      <td>0</td>\n",
       "      <td>0</td>\n",
       "    </tr>\n",
       "    <tr>\n",
       "      <th>2011-03-09</th>\n",
       "      <td>0</td>\n",
       "      <td>0</td>\n",
       "      <td>1</td>\n",
       "      <td>0</td>\n",
       "    </tr>\n",
       "    <tr>\n",
       "      <th>2011-03-16</th>\n",
       "      <td>0</td>\n",
       "      <td>0</td>\n",
       "      <td>1</td>\n",
       "      <td>0</td>\n",
       "    </tr>\n",
       "  </tbody>\n",
       "</table>\n",
       "</div>"
      ],
      "text/plain": [
       "event_type  Cultural  National  Religious  Sporting\n",
       "date                                               \n",
       "2011-02-06         0         0          0         1\n",
       "2011-02-14         1         0          0         0\n",
       "2011-02-21         0         1          0         0\n",
       "2011-03-09         0         0          1         0\n",
       "2011-03-16         0         0          1         0"
      ]
     },
     "execution_count": 33,
     "metadata": {},
     "output_type": "execute_result"
    }
   ],
   "source": [
    "df_events = df_calendar_events.pivot_table(index=['date'], columns=['event_type'], aggfunc=[len], fill_value=0).droplevel(level=[0,1], axis=1)\n",
    "df_events.head()"
   ]
  },
  {
   "cell_type": "code",
   "execution_count": 34,
   "id": "ddcf2edc-b83a-44fe-b111-e862eedeb207",
   "metadata": {},
   "outputs": [
    {
     "name": "stdout",
     "output_type": "stream",
     "text": [
      "Checking shape:  (14421770, 10)\n"
     ]
    },
    {
     "data": {
      "text/html": [
       "<div>\n",
       "<style scoped>\n",
       "    .dataframe tbody tr th:only-of-type {\n",
       "        vertical-align: middle;\n",
       "    }\n",
       "\n",
       "    .dataframe tbody tr th {\n",
       "        vertical-align: top;\n",
       "    }\n",
       "\n",
       "    .dataframe thead th {\n",
       "        text-align: right;\n",
       "    }\n",
       "</style>\n",
       "<table border=\"1\" class=\"dataframe\">\n",
       "  <thead>\n",
       "    <tr style=\"text-align: right;\">\n",
       "      <th></th>\n",
       "      <th>item_id</th>\n",
       "      <th>store_id</th>\n",
       "      <th>date</th>\n",
       "      <th>wm_yr_wk</th>\n",
       "      <th>sales_rev</th>\n",
       "      <th>day_of_week</th>\n",
       "      <th>Cultural</th>\n",
       "      <th>National</th>\n",
       "      <th>Religious</th>\n",
       "      <th>Sporting</th>\n",
       "    </tr>\n",
       "  </thead>\n",
       "  <tbody>\n",
       "    <tr>\n",
       "      <th>0</th>\n",
       "      <td>HOBBIES_1_001</td>\n",
       "      <td>CA_1</td>\n",
       "      <td>2014-01-01</td>\n",
       "      <td>11349</td>\n",
       "      <td>8.26</td>\n",
       "      <td>2</td>\n",
       "      <td>0.0</td>\n",
       "      <td>1.0</td>\n",
       "      <td>0.0</td>\n",
       "      <td>0.0</td>\n",
       "    </tr>\n",
       "    <tr>\n",
       "      <th>1</th>\n",
       "      <td>HOBBIES_1_002</td>\n",
       "      <td>CA_1</td>\n",
       "      <td>2014-01-01</td>\n",
       "      <td>11349</td>\n",
       "      <td>0.00</td>\n",
       "      <td>2</td>\n",
       "      <td>0.0</td>\n",
       "      <td>1.0</td>\n",
       "      <td>0.0</td>\n",
       "      <td>0.0</td>\n",
       "    </tr>\n",
       "    <tr>\n",
       "      <th>2</th>\n",
       "      <td>HOBBIES_1_003</td>\n",
       "      <td>CA_1</td>\n",
       "      <td>2014-01-01</td>\n",
       "      <td>11349</td>\n",
       "      <td>0.00</td>\n",
       "      <td>2</td>\n",
       "      <td>0.0</td>\n",
       "      <td>1.0</td>\n",
       "      <td>0.0</td>\n",
       "      <td>0.0</td>\n",
       "    </tr>\n",
       "    <tr>\n",
       "      <th>3</th>\n",
       "      <td>HOBBIES_1_004</td>\n",
       "      <td>CA_1</td>\n",
       "      <td>2014-01-01</td>\n",
       "      <td>11349</td>\n",
       "      <td>9.28</td>\n",
       "      <td>2</td>\n",
       "      <td>0.0</td>\n",
       "      <td>1.0</td>\n",
       "      <td>0.0</td>\n",
       "      <td>0.0</td>\n",
       "    </tr>\n",
       "    <tr>\n",
       "      <th>4</th>\n",
       "      <td>HOBBIES_1_005</td>\n",
       "      <td>CA_1</td>\n",
       "      <td>2014-01-01</td>\n",
       "      <td>11349</td>\n",
       "      <td>3.08</td>\n",
       "      <td>2</td>\n",
       "      <td>0.0</td>\n",
       "      <td>1.0</td>\n",
       "      <td>0.0</td>\n",
       "      <td>0.0</td>\n",
       "    </tr>\n",
       "  </tbody>\n",
       "</table>\n",
       "</div>"
      ],
      "text/plain": [
       "         item_id store_id       date  wm_yr_wk  sales_rev  day_of_week  \\\n",
       "0  HOBBIES_1_001     CA_1 2014-01-01     11349       8.26            2   \n",
       "1  HOBBIES_1_002     CA_1 2014-01-01     11349       0.00            2   \n",
       "2  HOBBIES_1_003     CA_1 2014-01-01     11349       0.00            2   \n",
       "3  HOBBIES_1_004     CA_1 2014-01-01     11349       9.28            2   \n",
       "4  HOBBIES_1_005     CA_1 2014-01-01     11349       3.08            2   \n",
       "\n",
       "   Cultural  National  Religious  Sporting  \n",
       "0       0.0       1.0        0.0       0.0  \n",
       "1       0.0       1.0        0.0       0.0  \n",
       "2       0.0       1.0        0.0       0.0  \n",
       "3       0.0       1.0        0.0       0.0  \n",
       "4       0.0       1.0        0.0       0.0  "
      ]
     },
     "execution_count": 34,
     "metadata": {},
     "output_type": "execute_result"
    }
   ],
   "source": [
    "df_explore = pd.merge(df_explore, df_events, left_on='date', right_on='date', how='left')\n",
    "print('Checking shape: ', df_explore.shape)\n",
    "df_explore.head()"
   ]
  },
  {
   "cell_type": "code",
   "execution_count": 35,
   "id": "e798422c-0d19-45f2-800e-be5a96fe714a",
   "metadata": {},
   "outputs": [],
   "source": [
    "df_events.to_csv('../../data/processed/df_events.csv')"
   ]
  },
  {
   "cell_type": "markdown",
   "id": "6ea124fe-8a98-49ef-9d17-ee543ee5ec58",
   "metadata": {},
   "source": [
    "#### Item ID"
   ]
  },
  {
   "cell_type": "code",
   "execution_count": 36,
   "id": "15e01cb5-638e-41e1-b29f-ca77b69c3b78",
   "metadata": {},
   "outputs": [
    {
     "data": {
      "image/png": "[encoded data removed]",
      "text/plain": [
       "<Figure size 640x480 with 1 Axes>"
      ]
     },
     "metadata": {},
     "output_type": "display_data"
    }
   ],
   "source": [
    "fig, ax = plt.subplots()\n",
    "\n",
    "sns.barplot(df_explore.groupby(['item_id'])[target].mean().sort_values(ascending=False)[0:1000], ax=ax)\n",
    "\n",
    "plt.gca().set_xticklabels([])\n",
    "plt.show()"
   ]
  },
  {
   "cell_type": "markdown",
   "id": "3010d4be-1535-4f57-8ae7-d67244461836",
   "metadata": {},
   "source": [
    "Some item ids having higher average sales revenue than others"
   ]
  },
  {
   "cell_type": "code",
   "execution_count": 37,
   "id": "88e42784-4b5d-4457-b08d-42c6a550b951",
   "metadata": {},
   "outputs": [
    {
     "data": {
      "text/plain": [
       "3049"
      ]
     },
     "execution_count": 37,
     "metadata": {},
     "output_type": "execute_result"
    }
   ],
   "source": [
    "df_explore['item_id'].nunique()"
   ]
  },
  {
   "cell_type": "code",
   "execution_count": 38,
   "id": "07fd0a77-bbec-4e04-aca7-e8ffad109a4b",
   "metadata": {},
   "outputs": [
    {
     "data": {
      "text/plain": [
       "3"
      ]
     },
     "execution_count": 38,
     "metadata": {},
     "output_type": "execute_result"
    }
   ],
   "source": [
    "# checking item IDs with 0 average rev\n",
    "len(df_explore.groupby(['item_id'])[target].sum()[df_explore.groupby('item_id')[target].sum() == 0])"
   ]
  },
  {
   "cell_type": "code",
   "execution_count": 44,
   "id": "47819f7d-2ed7-41a9-a07e-fb15087800dd",
   "metadata": {},
   "outputs": [
    {
     "data": {
      "text/plain": [
       "array([[ 2.90691688],\n",
       "       [ 1.03904097],\n",
       "       [ 0.28801903],\n",
       "       [11.08345351],\n",
       "       [ 1.80575845]])"
      ]
     },
     "execution_count": 44,
     "metadata": {},
     "output_type": "execute_result"
    }
   ],
   "source": [
    "# using target encoder to process Item ID\n",
    "from sklearn.preprocessing import TargetEncoder\n",
    "\n",
    "train_mask = (df_explore['date'] >= '2014-01-01') & (df_explore['date'] <= '2014-12-31')\n",
    "\n",
    "encoder = TargetEncoder(smooth=\"auto\", random_state=10)\n",
    "encoder.fit(df_explore[train_mask]['item_id'].values.reshape(-1, 1), df_explore[train_mask][target].values)\n",
    "X_transformed = encoder.transform(df_explore['item_id'].values.reshape(-1, 1))\n",
    "\n",
    "X_transformed[0:5]"
   ]
  },
  {
   "cell_type": "code",
   "execution_count": 45,
   "id": "a895a7a2-831d-4cda-b41c-8da9ff693c4c",
   "metadata": {},
   "outputs": [],
   "source": [
    "df_explore['item_id_encoded'] = X_transformed"
   ]
  },
  {
   "cell_type": "code",
   "execution_count": 46,
   "id": "5f99e6b1-7029-41a3-9f69-30ecdd05bec5",
   "metadata": {},
   "outputs": [
    {
     "data": {
      "text/html": [
       "<div>\n",
       "<style scoped>\n",
       "    .dataframe tbody tr th:only-of-type {\n",
       "        vertical-align: middle;\n",
       "    }\n",
       "\n",
       "    .dataframe tbody tr th {\n",
       "        vertical-align: top;\n",
       "    }\n",
       "\n",
       "    .dataframe thead th {\n",
       "        text-align: right;\n",
       "    }\n",
       "</style>\n",
       "<table border=\"1\" class=\"dataframe\">\n",
       "  <thead>\n",
       "    <tr style=\"text-align: right;\">\n",
       "      <th></th>\n",
       "      <th>item_id</th>\n",
       "      <th>store_id</th>\n",
       "      <th>date</th>\n",
       "      <th>wm_yr_wk</th>\n",
       "      <th>sales_rev</th>\n",
       "      <th>day_of_week</th>\n",
       "      <th>Cultural</th>\n",
       "      <th>National</th>\n",
       "      <th>Religious</th>\n",
       "      <th>Sporting</th>\n",
       "      <th>item_id_encoded</th>\n",
       "    </tr>\n",
       "  </thead>\n",
       "  <tbody>\n",
       "    <tr>\n",
       "      <th>0</th>\n",
       "      <td>HOBBIES_1_001</td>\n",
       "      <td>CA_1</td>\n",
       "      <td>2014-01-01</td>\n",
       "      <td>11349</td>\n",
       "      <td>8.26</td>\n",
       "      <td>2</td>\n",
       "      <td>0.0</td>\n",
       "      <td>1.0</td>\n",
       "      <td>0.0</td>\n",
       "      <td>0.0</td>\n",
       "      <td>2.906917</td>\n",
       "    </tr>\n",
       "    <tr>\n",
       "      <th>1</th>\n",
       "      <td>HOBBIES_1_002</td>\n",
       "      <td>CA_1</td>\n",
       "      <td>2014-01-01</td>\n",
       "      <td>11349</td>\n",
       "      <td>0.00</td>\n",
       "      <td>2</td>\n",
       "      <td>0.0</td>\n",
       "      <td>1.0</td>\n",
       "      <td>0.0</td>\n",
       "      <td>0.0</td>\n",
       "      <td>1.039041</td>\n",
       "    </tr>\n",
       "    <tr>\n",
       "      <th>2</th>\n",
       "      <td>HOBBIES_1_003</td>\n",
       "      <td>CA_1</td>\n",
       "      <td>2014-01-01</td>\n",
       "      <td>11349</td>\n",
       "      <td>0.00</td>\n",
       "      <td>2</td>\n",
       "      <td>0.0</td>\n",
       "      <td>1.0</td>\n",
       "      <td>0.0</td>\n",
       "      <td>0.0</td>\n",
       "      <td>0.288019</td>\n",
       "    </tr>\n",
       "    <tr>\n",
       "      <th>3</th>\n",
       "      <td>HOBBIES_1_004</td>\n",
       "      <td>CA_1</td>\n",
       "      <td>2014-01-01</td>\n",
       "      <td>11349</td>\n",
       "      <td>9.28</td>\n",
       "      <td>2</td>\n",
       "      <td>0.0</td>\n",
       "      <td>1.0</td>\n",
       "      <td>0.0</td>\n",
       "      <td>0.0</td>\n",
       "      <td>11.083454</td>\n",
       "    </tr>\n",
       "    <tr>\n",
       "      <th>4</th>\n",
       "      <td>HOBBIES_1_005</td>\n",
       "      <td>CA_1</td>\n",
       "      <td>2014-01-01</td>\n",
       "      <td>11349</td>\n",
       "      <td>3.08</td>\n",
       "      <td>2</td>\n",
       "      <td>0.0</td>\n",
       "      <td>1.0</td>\n",
       "      <td>0.0</td>\n",
       "      <td>0.0</td>\n",
       "      <td>1.805758</td>\n",
       "    </tr>\n",
       "  </tbody>\n",
       "</table>\n",
       "</div>"
      ],
      "text/plain": [
       "         item_id store_id       date  wm_yr_wk  sales_rev  day_of_week  \\\n",
       "0  HOBBIES_1_001     CA_1 2014-01-01     11349       8.26            2   \n",
       "1  HOBBIES_1_002     CA_1 2014-01-01     11349       0.00            2   \n",
       "2  HOBBIES_1_003     CA_1 2014-01-01     11349       0.00            2   \n",
       "3  HOBBIES_1_004     CA_1 2014-01-01     11349       9.28            2   \n",
       "4  HOBBIES_1_005     CA_1 2014-01-01     11349       3.08            2   \n",
       "\n",
       "   Cultural  National  Religious  Sporting  item_id_encoded  \n",
       "0       0.0       1.0        0.0       0.0         2.906917  \n",
       "1       0.0       1.0        0.0       0.0         1.039041  \n",
       "2       0.0       1.0        0.0       0.0         0.288019  \n",
       "3       0.0       1.0        0.0       0.0        11.083454  \n",
       "4       0.0       1.0        0.0       0.0         1.805758  "
      ]
     },
     "execution_count": 46,
     "metadata": {},
     "output_type": "execute_result"
    }
   ],
   "source": [
    "df_explore.head()"
   ]
  },
  {
   "cell_type": "code",
   "execution_count": 47,
   "id": "3f39ef46-04b9-4b76-81c2-82f097f10eb9",
   "metadata": {},
   "outputs": [],
   "source": [
    "# drop item id inplace of item id encoded\n",
    "df_explore.drop('item_id', axis=1, inplace=True)"
   ]
  },
  {
   "cell_type": "code",
   "execution_count": 48,
   "id": "40866d72-4a2a-477a-bc77-28dd186e354f",
   "metadata": {},
   "outputs": [],
   "source": [
    "import joblib"
   ]
  },
  {
   "cell_type": "code",
   "execution_count": 49,
   "id": "bc492f75-840a-457a-8009-0a7645588aae",
   "metadata": {},
   "outputs": [
    {
     "data": {
      "text/plain": [
       "['../../models/target_encoder.joblib']"
      ]
     },
     "execution_count": 49,
     "metadata": {},
     "output_type": "execute_result"
    }
   ],
   "source": [
    "# saving target encoder\n",
    "joblib.dump(encoder, '../../models/target_encoder.joblib')"
   ]
  },
  {
   "cell_type": "markdown",
   "id": "7ab2dd57-165e-4823-b78e-8d26e691e1e0",
   "metadata": {},
   "source": [
    "#### Store ID"
   ]
  },
  {
   "cell_type": "code",
   "execution_count": 50,
   "id": "997e6730-f1be-4603-bf98-cd41d6dd5f20",
   "metadata": {},
   "outputs": [
    {
     "data": {
      "text/plain": [
       "<Axes: xlabel='store_id'>"
      ]
     },
     "execution_count": 50,
     "metadata": {},
     "output_type": "execute_result"
    },
    {
     "data": {
      "image/png": "[encoded data removed]",
      "text/plain": [
       "<Figure size 640x480 with 1 Axes>"
      ]
     },
     "metadata": {},
     "output_type": "display_data"
    }
   ],
   "source": [
    "df_explore.groupby(['store_id'])[target].mean().sort_values(ascending=False).plot(kind='bar')"
   ]
  },
  {
   "cell_type": "markdown",
   "id": "c3711f32-48e6-4bff-8780-ddf74cad4569",
   "metadata": {},
   "source": [
    "Some variation with store ID"
   ]
  },
  {
   "cell_type": "markdown",
   "id": "80aca3fc-bd02-45a8-b3e1-e042a28936e5",
   "metadata": {},
   "source": [
    "### 5. Data Preparation"
   ]
  },
  {
   "cell_type": "code",
   "execution_count": 51,
   "id": "5b0a3ac1-c0d2-45ed-8af6-e3d9161aca69",
   "metadata": {},
   "outputs": [],
   "source": [
    "# create dummy variables and concat for categorical variable store_id\n",
    "# do not drop first to account for new stores\n",
    "\n",
    "df = pd.concat([df_explore, pd.get_dummies(df_explore['store_id'], drop_first=False, prefix='store_id', dtype=float)], axis=1)\n",
    "df.drop('store_id', axis=1, inplace=True)"
   ]
  },
  {
   "cell_type": "code",
   "execution_count": 52,
   "id": "37bc796f-0a25-4e1d-abcd-dc8259a70e71",
   "metadata": {},
   "outputs": [
    {
     "data": {
      "text/html": [
       "<div>\n",
       "<style scoped>\n",
       "    .dataframe tbody tr th:only-of-type {\n",
       "        vertical-align: middle;\n",
       "    }\n",
       "\n",
       "    .dataframe tbody tr th {\n",
       "        vertical-align: top;\n",
       "    }\n",
       "\n",
       "    .dataframe thead th {\n",
       "        text-align: right;\n",
       "    }\n",
       "</style>\n",
       "<table border=\"1\" class=\"dataframe\">\n",
       "  <thead>\n",
       "    <tr style=\"text-align: right;\">\n",
       "      <th></th>\n",
       "      <th>date</th>\n",
       "      <th>wm_yr_wk</th>\n",
       "      <th>sales_rev</th>\n",
       "      <th>day_of_week</th>\n",
       "      <th>Cultural</th>\n",
       "      <th>National</th>\n",
       "      <th>Religious</th>\n",
       "      <th>Sporting</th>\n",
       "      <th>item_id_encoded</th>\n",
       "      <th>store_id_CA_1</th>\n",
       "      <th>store_id_CA_2</th>\n",
       "      <th>store_id_CA_3</th>\n",
       "      <th>store_id_CA_4</th>\n",
       "      <th>store_id_TX_1</th>\n",
       "      <th>store_id_TX_2</th>\n",
       "      <th>store_id_TX_3</th>\n",
       "      <th>store_id_WI_1</th>\n",
       "      <th>store_id_WI_2</th>\n",
       "      <th>store_id_WI_3</th>\n",
       "    </tr>\n",
       "  </thead>\n",
       "  <tbody>\n",
       "    <tr>\n",
       "      <th>0</th>\n",
       "      <td>2014-01-01</td>\n",
       "      <td>11349</td>\n",
       "      <td>8.26</td>\n",
       "      <td>2</td>\n",
       "      <td>0.0</td>\n",
       "      <td>1.0</td>\n",
       "      <td>0.0</td>\n",
       "      <td>0.0</td>\n",
       "      <td>2.906917</td>\n",
       "      <td>1.0</td>\n",
       "      <td>0.0</td>\n",
       "      <td>0.0</td>\n",
       "      <td>0.0</td>\n",
       "      <td>0.0</td>\n",
       "      <td>0.0</td>\n",
       "      <td>0.0</td>\n",
       "      <td>0.0</td>\n",
       "      <td>0.0</td>\n",
       "      <td>0.0</td>\n",
       "    </tr>\n",
       "    <tr>\n",
       "      <th>1</th>\n",
       "      <td>2014-01-01</td>\n",
       "      <td>11349</td>\n",
       "      <td>0.00</td>\n",
       "      <td>2</td>\n",
       "      <td>0.0</td>\n",
       "      <td>1.0</td>\n",
       "      <td>0.0</td>\n",
       "      <td>0.0</td>\n",
       "      <td>1.039041</td>\n",
       "      <td>1.0</td>\n",
       "      <td>0.0</td>\n",
       "      <td>0.0</td>\n",
       "      <td>0.0</td>\n",
       "      <td>0.0</td>\n",
       "      <td>0.0</td>\n",
       "      <td>0.0</td>\n",
       "      <td>0.0</td>\n",
       "      <td>0.0</td>\n",
       "      <td>0.0</td>\n",
       "    </tr>\n",
       "    <tr>\n",
       "      <th>2</th>\n",
       "      <td>2014-01-01</td>\n",
       "      <td>11349</td>\n",
       "      <td>0.00</td>\n",
       "      <td>2</td>\n",
       "      <td>0.0</td>\n",
       "      <td>1.0</td>\n",
       "      <td>0.0</td>\n",
       "      <td>0.0</td>\n",
       "      <td>0.288019</td>\n",
       "      <td>1.0</td>\n",
       "      <td>0.0</td>\n",
       "      <td>0.0</td>\n",
       "      <td>0.0</td>\n",
       "      <td>0.0</td>\n",
       "      <td>0.0</td>\n",
       "      <td>0.0</td>\n",
       "      <td>0.0</td>\n",
       "      <td>0.0</td>\n",
       "      <td>0.0</td>\n",
       "    </tr>\n",
       "    <tr>\n",
       "      <th>3</th>\n",
       "      <td>2014-01-01</td>\n",
       "      <td>11349</td>\n",
       "      <td>9.28</td>\n",
       "      <td>2</td>\n",
       "      <td>0.0</td>\n",
       "      <td>1.0</td>\n",
       "      <td>0.0</td>\n",
       "      <td>0.0</td>\n",
       "      <td>11.083454</td>\n",
       "      <td>1.0</td>\n",
       "      <td>0.0</td>\n",
       "      <td>0.0</td>\n",
       "      <td>0.0</td>\n",
       "      <td>0.0</td>\n",
       "      <td>0.0</td>\n",
       "      <td>0.0</td>\n",
       "      <td>0.0</td>\n",
       "      <td>0.0</td>\n",
       "      <td>0.0</td>\n",
       "    </tr>\n",
       "    <tr>\n",
       "      <th>4</th>\n",
       "      <td>2014-01-01</td>\n",
       "      <td>11349</td>\n",
       "      <td>3.08</td>\n",
       "      <td>2</td>\n",
       "      <td>0.0</td>\n",
       "      <td>1.0</td>\n",
       "      <td>0.0</td>\n",
       "      <td>0.0</td>\n",
       "      <td>1.805758</td>\n",
       "      <td>1.0</td>\n",
       "      <td>0.0</td>\n",
       "      <td>0.0</td>\n",
       "      <td>0.0</td>\n",
       "      <td>0.0</td>\n",
       "      <td>0.0</td>\n",
       "      <td>0.0</td>\n",
       "      <td>0.0</td>\n",
       "      <td>0.0</td>\n",
       "      <td>0.0</td>\n",
       "    </tr>\n",
       "  </tbody>\n",
       "</table>\n",
       "</div>"
      ],
      "text/plain": [
       "        date  wm_yr_wk  sales_rev  day_of_week  Cultural  National  Religious  \\\n",
       "0 2014-01-01     11349       8.26            2       0.0       1.0        0.0   \n",
       "1 2014-01-01     11349       0.00            2       0.0       1.0        0.0   \n",
       "2 2014-01-01     11349       0.00            2       0.0       1.0        0.0   \n",
       "3 2014-01-01     11349       9.28            2       0.0       1.0        0.0   \n",
       "4 2014-01-01     11349       3.08            2       0.0       1.0        0.0   \n",
       "\n",
       "   Sporting  item_id_encoded  store_id_CA_1  store_id_CA_2  store_id_CA_3  \\\n",
       "0       0.0         2.906917            1.0            0.0            0.0   \n",
       "1       0.0         1.039041            1.0            0.0            0.0   \n",
       "2       0.0         0.288019            1.0            0.0            0.0   \n",
       "3       0.0        11.083454            1.0            0.0            0.0   \n",
       "4       0.0         1.805758            1.0            0.0            0.0   \n",
       "\n",
       "   store_id_CA_4  store_id_TX_1  store_id_TX_2  store_id_TX_3  store_id_WI_1  \\\n",
       "0            0.0            0.0            0.0            0.0            0.0   \n",
       "1            0.0            0.0            0.0            0.0            0.0   \n",
       "2            0.0            0.0            0.0            0.0            0.0   \n",
       "3            0.0            0.0            0.0            0.0            0.0   \n",
       "4            0.0            0.0            0.0            0.0            0.0   \n",
       "\n",
       "   store_id_WI_2  store_id_WI_3  \n",
       "0            0.0            0.0  \n",
       "1            0.0            0.0  \n",
       "2            0.0            0.0  \n",
       "3            0.0            0.0  \n",
       "4            0.0            0.0  "
      ]
     },
     "execution_count": 52,
     "metadata": {},
     "output_type": "execute_result"
    }
   ],
   "source": [
    "df.head()"
   ]
  },
  {
   "cell_type": "code",
   "execution_count": 53,
   "id": "98e87e90-171a-47c0-bba5-d6f49c52f4fb",
   "metadata": {},
   "outputs": [
    {
     "name": "stdout",
     "output_type": "stream",
     "text": [
      "<class 'pandas.core.frame.DataFrame'>\n",
      "RangeIndex: 14421770 entries, 0 to 14421769\n",
      "Data columns (total 19 columns):\n",
      " #   Column           Dtype         \n",
      "---  ------           -----         \n",
      " 0   date             datetime64[ns]\n",
      " 1   wm_yr_wk         int64         \n",
      " 2   sales_rev        float64       \n",
      " 3   day_of_week      int32         \n",
      " 4   Cultural         float64       \n",
      " 5   National         float64       \n",
      " 6   Religious        float64       \n",
      " 7   Sporting         float64       \n",
      " 8   item_id_encoded  float64       \n",
      " 9   store_id_CA_1    float64       \n",
      " 10  store_id_CA_2    float64       \n",
      " 11  store_id_CA_3    float64       \n",
      " 12  store_id_CA_4    float64       \n",
      " 13  store_id_TX_1    float64       \n",
      " 14  store_id_TX_2    float64       \n",
      " 15  store_id_TX_3    float64       \n",
      " 16  store_id_WI_1    float64       \n",
      " 17  store_id_WI_2    float64       \n",
      " 18  store_id_WI_3    float64       \n",
      "dtypes: datetime64[ns](1), float64(16), int32(1), int64(1)\n",
      "memory usage: 2.0 GB\n"
     ]
    }
   ],
   "source": [
    "df.info()"
   ]
  },
  {
   "cell_type": "code",
   "execution_count": 54,
   "id": "89e56f09-0bd3-40fd-bba7-dc884547aec7",
   "metadata": {},
   "outputs": [],
   "source": [
    "# creating checkpoint for data processing\n",
    "df.to_csv('../../data/processed/df_train_processed.csv')"
   ]
  },
  {
   "cell_type": "code",
   "execution_count": 55,
   "id": "95884f54-06c3-4de9-aa7c-8fba4a396023",
   "metadata": {},
   "outputs": [],
   "source": [
    "# deleting variable to save memory\n",
    "del(df_explore)"
   ]
  },
  {
   "cell_type": "markdown",
   "id": "ed09dfc1-b851-442a-8fe5-01724092ca2a",
   "metadata": {},
   "source": [
    "### 6. Splitting Dataset"
   ]
  },
  {
   "cell_type": "code",
   "execution_count": 4,
   "id": "09df2d6d-35d6-4cdb-a47d-1a0cac06febb",
   "metadata": {},
   "outputs": [
    {
     "name": "stdout",
     "output_type": "stream",
     "text": [
      "(11128850, 15)\n"
     ]
    }
   ],
   "source": [
    "df = pd.read_csv('../../data/processed/df_train_processed.csv')\n",
    "print(df.shape)"
   ]
  },
  {
   "cell_type": "code",
   "execution_count": 56,
   "id": "749c3c88-3c83-43fc-a7b3-175ccfb4bef8",
   "metadata": {},
   "outputs": [
    {
     "name": "stdout",
     "output_type": "stream",
     "text": [
      "Train shape:  (11128850, 18)\n",
      "Test shape:  (3292920, 18)\n"
     ]
    }
   ],
   "source": [
    "# creating filters for train and test sets\n",
    "train_mask = (df['date'] >= '2014-01-01') & (df['date'] <= '2014-12-31')\n",
    "test_mask = (df['date'] >= '2015-01-01') & (df['date'] <= '2015-12-31')\n",
    "\n",
    "df_train = df[train_mask].drop('date', axis=1)\n",
    "df_test = df[test_mask].drop('date', axis=1)\n",
    "\n",
    "print('Train shape: ', df_train.shape)\n",
    "print('Test shape: ', df_test.shape)"
   ]
  },
  {
   "cell_type": "code",
   "execution_count": 57,
   "id": "c51da94b-2255-4171-a026-7f8cb699145e",
   "metadata": {},
   "outputs": [],
   "source": [
    "del(df)"
   ]
  },
  {
   "cell_type": "code",
   "execution_count": 61,
   "id": "bf33543a-69ae-4569-89d0-12a957f21f6b",
   "metadata": {},
   "outputs": [],
   "source": [
    "from my_krml_24618288.data.sets import pop_target\n",
    "\n",
    "X_train, y_train = pop_target(df_train, target)\n",
    "X_test, y_test = pop_target(df_test, target)"
   ]
  },
  {
   "cell_type": "code",
   "execution_count": 59,
   "id": "b1bb7095-3299-4ca2-9392-de7eb9d6e1ba",
   "metadata": {},
   "outputs": [],
   "source": [
    "# save sets into the data/processed folder\n",
    "from grp_krml_group3.data.sets import save_sets"
   ]
  },
  {
   "cell_type": "code",
   "execution_count": 63,
   "id": "f8da80ad-0a77-4356-aaef-61c5e1a31879",
   "metadata": {},
   "outputs": [],
   "source": [
    "save_sets(X_train, y_train, None, None, X_test, y_test, path='../../data/processed/save_sets')"
   ]
  },
  {
   "cell_type": "markdown",
   "id": "ff6a4a83-2dac-447e-aa48-5887e9a925aa",
   "metadata": {},
   "source": [
    "### 7. Baseline Model"
   ]
  },
  {
   "cell_type": "code",
   "execution_count": 64,
   "id": "93681837-7909-4240-aabf-35ca6cf3c0ae",
   "metadata": {},
   "outputs": [],
   "source": [
    "from grp_krml_group3.models.null import NullRegressor"
   ]
  },
  {
   "cell_type": "code",
   "execution_count": 65,
   "id": "f73643e6-d541-456e-8b7c-86aba7956022",
   "metadata": {},
   "outputs": [],
   "source": [
    "base_model = NullRegressor()"
   ]
  },
  {
   "cell_type": "code",
   "execution_count": 66,
   "id": "669b4f36-e60c-455c-aacc-d5ed66838ec0",
   "metadata": {},
   "outputs": [],
   "source": [
    "# creating baseline predictions with the same shape as the train, and test sets\n",
    "train_baseline_preds = base_model.fit_predict(y_train)\n",
    "test_baseline_preds = base_model.fit_predict(y_test)"
   ]
  },
  {
   "cell_type": "code",
   "execution_count": 67,
   "id": "b60bceae-73bd-4d8e-a4af-5d611889106e",
   "metadata": {},
   "outputs": [],
   "source": [
    "from grp_krml_group3.models.performance import print_regressor_scores"
   ]
  },
  {
   "cell_type": "code",
   "execution_count": 68,
   "id": "7a358956-19b4-4ccd-a234-4c4da454ee6e",
   "metadata": {},
   "outputs": [
    {
     "name": "stdout",
     "output_type": "stream",
     "text": [
      "RMSE None: 9.260573745526159\n",
      "MAE None: 4.641348632065445\n"
     ]
    }
   ],
   "source": [
    "print_regressor_scores(y_actuals=y_train, y_preds=train_baseline_preds)"
   ]
  },
  {
   "cell_type": "code",
   "execution_count": 69,
   "id": "fc9e7a03-1179-4c75-a9c2-853d95a21098",
   "metadata": {},
   "outputs": [
    {
     "name": "stdout",
     "output_type": "stream",
     "text": [
      "RMSE None: 10.682095582363939\n",
      "MAE None: 4.879632032335002\n"
     ]
    }
   ],
   "source": [
    "print_regressor_scores(y_actuals=y_test, y_preds=test_baseline_preds)"
   ]
  },
  {
   "cell_type": "markdown",
   "id": "b34c1e31-9517-4446-94ee-429dbc809197",
   "metadata": {},
   "source": [
    "Generally high RMSE and MAE when accounting for the distribution of the data"
   ]
  },
  {
   "cell_type": "markdown",
   "id": "60ec90d8-1ed2-43a7-9090-e06e7b8927ad",
   "metadata": {},
   "source": [
    "### 8. Train Machine Learning Model"
   ]
  },
  {
   "cell_type": "code",
   "execution_count": 71,
   "id": "50d872aa-2d8e-4f24-bce3-28db447199c7",
   "metadata": {},
   "outputs": [],
   "source": [
    "import xgboost as xgb"
   ]
  },
  {
   "cell_type": "code",
   "execution_count": 73,
   "id": "b6f59e8d-0112-4c7d-8bb6-2780bab5d150",
   "metadata": {},
   "outputs": [],
   "source": [
    "# initialize model\n",
    "model = xgb.XGBRegressor(eval_metric='rmse', booster='gbtree', random_state=10)"
   ]
  },
  {
   "cell_type": "markdown",
   "id": "e413b41c-828f-41d1-bf32-123c4ee980a3",
   "metadata": {},
   "source": [
    "### 9. Assess Model Performance"
   ]
  },
  {
   "cell_type": "code",
   "execution_count": 97,
   "id": "4def6ae6-87f1-4c4a-8661-15f701566381",
   "metadata": {},
   "outputs": [],
   "source": [
    "# KFold cross validation\n",
    "from sklearn.metrics import root_mean_squared_error as rmse, mean_absolute_error as mae\n",
    "from sklearn.model_selection import KFold, cross_val_score, cross_val_predict\n",
    "from my_krml_24618288.models.performance import evaluate_cv_predictions_reg\n",
    "\n",
    "# Doing 3 splits\n",
    "cv = KFold(n_splits=3, shuffle=True, random_state=10)"
   ]
  },
  {
   "cell_type": "code",
   "execution_count": 85,
   "id": "5a25124a-fc08-4633-99b5-a3060fa82d80",
   "metadata": {},
   "outputs": [
    {
     "data": {
      "text/html": [
       "<div>\n",
       "<style scoped>\n",
       "    .dataframe tbody tr th:only-of-type {\n",
       "        vertical-align: middle;\n",
       "    }\n",
       "\n",
       "    .dataframe tbody tr th {\n",
       "        vertical-align: top;\n",
       "    }\n",
       "\n",
       "    .dataframe thead th {\n",
       "        text-align: right;\n",
       "    }\n",
       "</style>\n",
       "<table border=\"1\" class=\"dataframe\">\n",
       "  <thead>\n",
       "    <tr style=\"text-align: right;\">\n",
       "      <th></th>\n",
       "      <th>Mean</th>\n",
       "      <th>STD</th>\n",
       "      <th>Median</th>\n",
       "    </tr>\n",
       "  </thead>\n",
       "  <tbody>\n",
       "    <tr>\n",
       "      <th>neg_root_mean_squared_error</th>\n",
       "      <td>7.270349</td>\n",
       "      <td>0.008993</td>\n",
       "      <td>7.270183</td>\n",
       "    </tr>\n",
       "    <tr>\n",
       "      <th>neg_mean_absolute_error</th>\n",
       "      <td>3.445925</td>\n",
       "      <td>0.001635</td>\n",
       "      <td>3.445407</td>\n",
       "    </tr>\n",
       "  </tbody>\n",
       "</table>\n",
       "</div>"
      ],
      "text/plain": [
       "                                 Mean       STD    Median\n",
       "neg_root_mean_squared_error  7.270349  0.008993  7.270183\n",
       "neg_mean_absolute_error      3.445925  0.001635  3.445407"
      ]
     },
     "metadata": {},
     "output_type": "display_data"
    },
    {
     "data": {
      "image/png": "[encoded data removed]",
      "text/plain": [
       "<Figure size 2000x500 with 2 Axes>"
      ]
     },
     "metadata": {},
     "output_type": "display_data"
    }
   ],
   "source": [
    "# scores for undersampling training\n",
    "evaluate_cv_predictions_reg(X_train, y_train, model)"
   ]
  },
  {
   "cell_type": "code",
   "execution_count": 89,
   "id": "389bf344-204e-4237-8f62-287e628c6b67",
   "metadata": {},
   "outputs": [],
   "source": [
    "X_train_samp, y_train_samp = pop_target(df_train.sample(frac=0.5), target)"
   ]
  },
  {
   "cell_type": "code",
   "execution_count": 102,
   "id": "0c99293a-746b-4209-923e-4d8044adbcf5",
   "metadata": {},
   "outputs": [
    {
     "data": {
      "text/html": [
       "<div>\n",
       "<style scoped>\n",
       "    .dataframe tbody tr th:only-of-type {\n",
       "        vertical-align: middle;\n",
       "    }\n",
       "\n",
       "    .dataframe tbody tr th {\n",
       "        vertical-align: top;\n",
       "    }\n",
       "\n",
       "    .dataframe thead th {\n",
       "        text-align: right;\n",
       "    }\n",
       "</style>\n",
       "<table border=\"1\" class=\"dataframe\">\n",
       "  <thead>\n",
       "    <tr style=\"text-align: right;\">\n",
       "      <th></th>\n",
       "      <th>Mean</th>\n",
       "      <th>STD</th>\n",
       "      <th>Median</th>\n",
       "    </tr>\n",
       "  </thead>\n",
       "  <tbody>\n",
       "    <tr>\n",
       "      <th>neg_root_mean_squared_error</th>\n",
       "      <td>7.254957</td>\n",
       "      <td>0.025535</td>\n",
       "      <td>7.265955</td>\n",
       "    </tr>\n",
       "    <tr>\n",
       "      <th>neg_mean_absolute_error</th>\n",
       "      <td>3.448236</td>\n",
       "      <td>0.003649</td>\n",
       "      <td>3.446406</td>\n",
       "    </tr>\n",
       "  </tbody>\n",
       "</table>\n",
       "</div>"
      ],
      "text/plain": [
       "                                 Mean       STD    Median\n",
       "neg_root_mean_squared_error  7.254957  0.025535  7.265955\n",
       "neg_mean_absolute_error      3.448236  0.003649  3.446406"
      ]
     },
     "metadata": {},
     "output_type": "display_data"
    },
    {
     "data": {
      "image/png": "[encoded data removed]",
      "text/plain": [
       "<Figure size 2000x500 with 2 Axes>"
      ]
     },
     "metadata": {},
     "output_type": "display_data"
    }
   ],
   "source": [
    "evaluate_cv_predictions_reg(X_train_samp, y_train_samp, model, cv)"
   ]
  },
  {
   "cell_type": "markdown",
   "id": "acd19513-6a47-47ea-bc2d-37b3b18aad0e",
   "metadata": {},
   "source": [
    "The initial xgboostregressor model performs better than the basemodel. Furthermore, based on sampling 50% the train set, it returns similar scores. Will train with 50% for initial testing"
   ]
  },
  {
   "cell_type": "code",
   "execution_count": 103,
   "id": "db3757b0-d66f-432b-8af8-c0cc3d4e2fa0",
   "metadata": {},
   "outputs": [
    {
     "data": {
      "text/html": [
       "<style>#sk-container-id-1 {\n",
       "  /* Definition of color scheme common for light and dark mode */\n",
       "  --sklearn-color-text: black;\n",
       "  --sklearn-color-line: gray;\n",
       "  /* Definition of color scheme for unfitted estimators */\n",
       "  --sklearn-color-unfitted-level-0: #fff5e6;\n",
       "  --sklearn-color-unfitted-level-1: #f6e4d2;\n",
       "  --sklearn-color-unfitted-level-2: #ffe0b3;\n",
       "  --sklearn-color-unfitted-level-3: chocolate;\n",
       "  /* Definition of color scheme for fitted estimators */\n",
       "  --sklearn-color-fitted-level-0: #f0f8ff;\n",
       "  --sklearn-color-fitted-level-1: #d4ebff;\n",
       "  --sklearn-color-fitted-level-2: #b3dbfd;\n",
       "  --sklearn-color-fitted-level-3: cornflowerblue;\n",
       "\n",
       "  /* Specific color for light theme */\n",
       "  --sklearn-color-text-on-default-background: var(--sg-text-color, var(--theme-code-foreground, var(--jp-content-font-color1, black)));\n",
       "  --sklearn-color-background: var(--sg-background-color, var(--theme-background, var(--jp-layout-color0, white)));\n",
       "  --sklearn-color-border-box: var(--sg-text-color, var(--theme-code-foreground, var(--jp-content-font-color1, black)));\n",
       "  --sklearn-color-icon: #696969;\n",
       "\n",
       "  @media (prefers-color-scheme: dark) {\n",
       "    /* Redefinition of color scheme for dark theme */\n",
       "    --sklearn-color-text-on-default-background: var(--sg-text-color, var(--theme-code-foreground, var(--jp-content-font-color1, white)));\n",
       "    --sklearn-color-background: var(--sg-background-color, var(--theme-background, var(--jp-layout-color0, #111)));\n",
       "    --sklearn-color-border-box: var(--sg-text-color, var(--theme-code-foreground, var(--jp-content-font-color1, white)));\n",
       "    --sklearn-color-icon: #878787;\n",
       "  }\n",
       "}\n",
       "\n",
       "#sk-container-id-1 {\n",
       "  color: var(--sklearn-color-text);\n",
       "}\n",
       "\n",
       "#sk-container-id-1 pre {\n",
       "  padding: 0;\n",
       "}\n",
       "\n",
       "#sk-container-id-1 input.sk-hidden--visually {\n",
       "  border: 0;\n",
       "  clip: rect(1px 1px 1px 1px);\n",
       "  clip: rect(1px, 1px, 1px, 1px);\n",
       "  height: 1px;\n",
       "  margin: -1px;\n",
       "  overflow: hidden;\n",
       "  padding: 0;\n",
       "  position: absolute;\n",
       "  width: 1px;\n",
       "}\n",
       "\n",
       "#sk-container-id-1 div.sk-dashed-wrapped {\n",
       "  border: 1px dashed var(--sklearn-color-line);\n",
       "  margin: 0 0.4em 0.5em 0.4em;\n",
       "  box-sizing: border-box;\n",
       "  padding-bottom: 0.4em;\n",
       "  background-color: var(--sklearn-color-background);\n",
       "}\n",
       "\n",
       "#sk-container-id-1 div.sk-container {\n",
       "  /* jupyter's `normalize.less` sets `[hidden] { display: none; }`\n",
       "     but bootstrap.min.css set `[hidden] { display: none !important; }`\n",
       "     so we also need the `!important` here to be able to override the\n",
       "     default hidden behavior on the sphinx rendered scikit-learn.org.\n",
       "     See: https://github.com/scikit-learn/scikit-learn/issues/21755 */\n",
       "  display: inline-block !important;\n",
       "  position: relative;\n",
       "}\n",
       "\n",
       "#sk-container-id-1 div.sk-text-repr-fallback {\n",
       "  display: none;\n",
       "}\n",
       "\n",
       "div.sk-parallel-item,\n",
       "div.sk-serial,\n",
       "div.sk-item {\n",
       "  /* draw centered vertical line to link estimators */\n",
       "  background-image: linear-gradient(var(--sklearn-color-text-on-default-background), var(--sklearn-color-text-on-default-background));\n",
       "  background-size: 2px 100%;\n",
       "  background-repeat: no-repeat;\n",
       "  background-position: center center;\n",
       "}\n",
       "\n",
       "/* Parallel-specific style estimator block */\n",
       "\n",
       "#sk-container-id-1 div.sk-parallel-item::after {\n",
       "  content: \"\";\n",
       "  width: 100%;\n",
       "  border-bottom: 2px solid var(--sklearn-color-text-on-default-background);\n",
       "  flex-grow: 1;\n",
       "}\n",
       "\n",
       "#sk-container-id-1 div.sk-parallel {\n",
       "  display: flex;\n",
       "  align-items: stretch;\n",
       "  justify-content: center;\n",
       "  background-color: var(--sklearn-color-background);\n",
       "  position: relative;\n",
       "}\n",
       "\n",
       "#sk-container-id-1 div.sk-parallel-item {\n",
       "  display: flex;\n",
       "  flex-direction: column;\n",
       "}\n",
       "\n",
       "#sk-container-id-1 div.sk-parallel-item:first-child::after {\n",
       "  align-self: flex-end;\n",
       "  width: 50%;\n",
       "}\n",
       "\n",
       "#sk-container-id-1 div.sk-parallel-item:last-child::after {\n",
       "  align-self: flex-start;\n",
       "  width: 50%;\n",
       "}\n",
       "\n",
       "#sk-container-id-1 div.sk-parallel-item:only-child::after {\n",
       "  width: 0;\n",
       "}\n",
       "\n",
       "/* Serial-specific style estimator block */\n",
       "\n",
       "#sk-container-id-1 div.sk-serial {\n",
       "  display: flex;\n",
       "  flex-direction: column;\n",
       "  align-items: center;\n",
       "  background-color: var(--sklearn-color-background);\n",
       "  padding-right: 1em;\n",
       "  padding-left: 1em;\n",
       "}\n",
       "\n",
       "\n",
       "/* Toggleable style: style used for estimator/Pipeline/ColumnTransformer box that is\n",
       "clickable and can be expanded/collapsed.\n",
       "- Pipeline and ColumnTransformer use this feature and define the default style\n",
       "- Estimators will overwrite some part of the style using the `sk-estimator` class\n",
       "*/\n",
       "\n",
       "/* Pipeline and ColumnTransformer style (default) */\n",
       "\n",
       "#sk-container-id-1 div.sk-toggleable {\n",
       "  /* Default theme specific background. It is overwritten whether we have a\n",
       "  specific estimator or a Pipeline/ColumnTransformer */\n",
       "  background-color: var(--sklearn-color-background);\n",
       "}\n",
       "\n",
       "/* Toggleable label */\n",
       "#sk-container-id-1 label.sk-toggleable__label {\n",
       "  cursor: pointer;\n",
       "  display: block;\n",
       "  width: 100%;\n",
       "  margin-bottom: 0;\n",
       "  padding: 0.5em;\n",
       "  box-sizing: border-box;\n",
       "  text-align: center;\n",
       "}\n",
       "\n",
       "#sk-container-id-1 label.sk-toggleable__label-arrow:before {\n",
       "  /* Arrow on the left of the label */\n",
       "  content: \"▸\";\n",
       "  float: left;\n",
       "  margin-right: 0.25em;\n",
       "  color: var(--sklearn-color-icon);\n",
       "}\n",
       "\n",
       "#sk-container-id-1 label.sk-toggleable__label-arrow:hover:before {\n",
       "  color: var(--sklearn-color-text);\n",
       "}\n",
       "\n",
       "/* Toggleable content - dropdown */\n",
       "\n",
       "#sk-container-id-1 div.sk-toggleable__content {\n",
       "  max-height: 0;\n",
       "  max-width: 0;\n",
       "  overflow: hidden;\n",
       "  text-align: left;\n",
       "  /* unfitted */\n",
       "  background-color: var(--sklearn-color-unfitted-level-0);\n",
       "}\n",
       "\n",
       "#sk-container-id-1 div.sk-toggleable__content.fitted {\n",
       "  /* fitted */\n",
       "  background-color: var(--sklearn-color-fitted-level-0);\n",
       "}\n",
       "\n",
       "#sk-container-id-1 div.sk-toggleable__content pre {\n",
       "  margin: 0.2em;\n",
       "  border-radius: 0.25em;\n",
       "  color: var(--sklearn-color-text);\n",
       "  /* unfitted */\n",
       "  background-color: var(--sklearn-color-unfitted-level-0);\n",
       "}\n",
       "\n",
       "#sk-container-id-1 div.sk-toggleable__content.fitted pre {\n",
       "  /* unfitted */\n",
       "  background-color: var(--sklearn-color-fitted-level-0);\n",
       "}\n",
       "\n",
       "#sk-container-id-1 input.sk-toggleable__control:checked~div.sk-toggleable__content {\n",
       "  /* Expand drop-down */\n",
       "  max-height: 200px;\n",
       "  max-width: 100%;\n",
       "  overflow: auto;\n",
       "}\n",
       "\n",
       "#sk-container-id-1 input.sk-toggleable__control:checked~label.sk-toggleable__label-arrow:before {\n",
       "  content: \"▾\";\n",
       "}\n",
       "\n",
       "/* Pipeline/ColumnTransformer-specific style */\n",
       "\n",
       "#sk-container-id-1 div.sk-label input.sk-toggleable__control:checked~label.sk-toggleable__label {\n",
       "  color: var(--sklearn-color-text);\n",
       "  background-color: var(--sklearn-color-unfitted-level-2);\n",
       "}\n",
       "\n",
       "#sk-container-id-1 div.sk-label.fitted input.sk-toggleable__control:checked~label.sk-toggleable__label {\n",
       "  background-color: var(--sklearn-color-fitted-level-2);\n",
       "}\n",
       "\n",
       "/* Estimator-specific style */\n",
       "\n",
       "/* Colorize estimator box */\n",
       "#sk-container-id-1 div.sk-estimator input.sk-toggleable__control:checked~label.sk-toggleable__label {\n",
       "  /* unfitted */\n",
       "  background-color: var(--sklearn-color-unfitted-level-2);\n",
       "}\n",
       "\n",
       "#sk-container-id-1 div.sk-estimator.fitted input.sk-toggleable__control:checked~label.sk-toggleable__label {\n",
       "  /* fitted */\n",
       "  background-color: var(--sklearn-color-fitted-level-2);\n",
       "}\n",
       "\n",
       "#sk-container-id-1 div.sk-label label.sk-toggleable__label,\n",
       "#sk-container-id-1 div.sk-label label {\n",
       "  /* The background is the default theme color */\n",
       "  color: var(--sklearn-color-text-on-default-background);\n",
       "}\n",
       "\n",
       "/* On hover, darken the color of the background */\n",
       "#sk-container-id-1 div.sk-label:hover label.sk-toggleable__label {\n",
       "  color: var(--sklearn-color-text);\n",
       "  background-color: var(--sklearn-color-unfitted-level-2);\n",
       "}\n",
       "\n",
       "/* Label box, darken color on hover, fitted */\n",
       "#sk-container-id-1 div.sk-label.fitted:hover label.sk-toggleable__label.fitted {\n",
       "  color: var(--sklearn-color-text);\n",
       "  background-color: var(--sklearn-color-fitted-level-2);\n",
       "}\n",
       "\n",
       "/* Estimator label */\n",
       "\n",
       "#sk-container-id-1 div.sk-label label {\n",
       "  font-family: monospace;\n",
       "  font-weight: bold;\n",
       "  display: inline-block;\n",
       "  line-height: 1.2em;\n",
       "}\n",
       "\n",
       "#sk-container-id-1 div.sk-label-container {\n",
       "  text-align: center;\n",
       "}\n",
       "\n",
       "/* Estimator-specific */\n",
       "#sk-container-id-1 div.sk-estimator {\n",
       "  font-family: monospace;\n",
       "  border: 1px dotted var(--sklearn-color-border-box);\n",
       "  border-radius: 0.25em;\n",
       "  box-sizing: border-box;\n",
       "  margin-bottom: 0.5em;\n",
       "  /* unfitted */\n",
       "  background-color: var(--sklearn-color-unfitted-level-0);\n",
       "}\n",
       "\n",
       "#sk-container-id-1 div.sk-estimator.fitted {\n",
       "  /* fitted */\n",
       "  background-color: var(--sklearn-color-fitted-level-0);\n",
       "}\n",
       "\n",
       "/* on hover */\n",
       "#sk-container-id-1 div.sk-estimator:hover {\n",
       "  /* unfitted */\n",
       "  background-color: var(--sklearn-color-unfitted-level-2);\n",
       "}\n",
       "\n",
       "#sk-container-id-1 div.sk-estimator.fitted:hover {\n",
       "  /* fitted */\n",
       "  background-color: var(--sklearn-color-fitted-level-2);\n",
       "}\n",
       "\n",
       "/* Specification for estimator info (e.g. \"i\" and \"?\") */\n",
       "\n",
       "/* Common style for \"i\" and \"?\" */\n",
       "\n",
       ".sk-estimator-doc-link,\n",
       "a:link.sk-estimator-doc-link,\n",
       "a:visited.sk-estimator-doc-link {\n",
       "  float: right;\n",
       "  font-size: smaller;\n",
       "  line-height: 1em;\n",
       "  font-family: monospace;\n",
       "  background-color: var(--sklearn-color-background);\n",
       "  border-radius: 1em;\n",
       "  height: 1em;\n",
       "  width: 1em;\n",
       "  text-decoration: none !important;\n",
       "  margin-left: 1ex;\n",
       "  /* unfitted */\n",
       "  border: var(--sklearn-color-unfitted-level-1) 1pt solid;\n",
       "  color: var(--sklearn-color-unfitted-level-1);\n",
       "}\n",
       "\n",
       ".sk-estimator-doc-link.fitted,\n",
       "a:link.sk-estimator-doc-link.fitted,\n",
       "a:visited.sk-estimator-doc-link.fitted {\n",
       "  /* fitted */\n",
       "  border: var(--sklearn-color-fitted-level-1) 1pt solid;\n",
       "  color: var(--sklearn-color-fitted-level-1);\n",
       "}\n",
       "\n",
       "/* On hover */\n",
       "div.sk-estimator:hover .sk-estimator-doc-link:hover,\n",
       ".sk-estimator-doc-link:hover,\n",
       "div.sk-label-container:hover .sk-estimator-doc-link:hover,\n",
       ".sk-estimator-doc-link:hover {\n",
       "  /* unfitted */\n",
       "  background-color: var(--sklearn-color-unfitted-level-3);\n",
       "  color: var(--sklearn-color-background);\n",
       "  text-decoration: none;\n",
       "}\n",
       "\n",
       "div.sk-estimator.fitted:hover .sk-estimator-doc-link.fitted:hover,\n",
       ".sk-estimator-doc-link.fitted:hover,\n",
       "div.sk-label-container:hover .sk-estimator-doc-link.fitted:hover,\n",
       ".sk-estimator-doc-link.fitted:hover {\n",
       "  /* fitted */\n",
       "  background-color: var(--sklearn-color-fitted-level-3);\n",
       "  color: var(--sklearn-color-background);\n",
       "  text-decoration: none;\n",
       "}\n",
       "\n",
       "/* Span, style for the box shown on hovering the info icon */\n",
       ".sk-estimator-doc-link span {\n",
       "  display: none;\n",
       "  z-index: 9999;\n",
       "  position: relative;\n",
       "  font-weight: normal;\n",
       "  right: .2ex;\n",
       "  padding: .5ex;\n",
       "  margin: .5ex;\n",
       "  width: min-content;\n",
       "  min-width: 20ex;\n",
       "  max-width: 50ex;\n",
       "  color: var(--sklearn-color-text);\n",
       "  box-shadow: 2pt 2pt 4pt #999;\n",
       "  /* unfitted */\n",
       "  background: var(--sklearn-color-unfitted-level-0);\n",
       "  border: .5pt solid var(--sklearn-color-unfitted-level-3);\n",
       "}\n",
       "\n",
       ".sk-estimator-doc-link.fitted span {\n",
       "  /* fitted */\n",
       "  background: var(--sklearn-color-fitted-level-0);\n",
       "  border: var(--sklearn-color-fitted-level-3);\n",
       "}\n",
       "\n",
       ".sk-estimator-doc-link:hover span {\n",
       "  display: block;\n",
       "}\n",
       "\n",
       "/* \"?\"-specific style due to the `<a>` HTML tag */\n",
       "\n",
       "#sk-container-id-1 a.estimator_doc_link {\n",
       "  float: right;\n",
       "  font-size: 1rem;\n",
       "  line-height: 1em;\n",
       "  font-family: monospace;\n",
       "  background-color: var(--sklearn-color-background);\n",
       "  border-radius: 1rem;\n",
       "  height: 1rem;\n",
       "  width: 1rem;\n",
       "  text-decoration: none;\n",
       "  /* unfitted */\n",
       "  color: var(--sklearn-color-unfitted-level-1);\n",
       "  border: var(--sklearn-color-unfitted-level-1) 1pt solid;\n",
       "}\n",
       "\n",
       "#sk-container-id-1 a.estimator_doc_link.fitted {\n",
       "  /* fitted */\n",
       "  border: var(--sklearn-color-fitted-level-1) 1pt solid;\n",
       "  color: var(--sklearn-color-fitted-level-1);\n",
       "}\n",
       "\n",
       "/* On hover */\n",
       "#sk-container-id-1 a.estimator_doc_link:hover {\n",
       "  /* unfitted */\n",
       "  background-color: var(--sklearn-color-unfitted-level-3);\n",
       "  color: var(--sklearn-color-background);\n",
       "  text-decoration: none;\n",
       "}\n",
       "\n",
       "#sk-container-id-1 a.estimator_doc_link.fitted:hover {\n",
       "  /* fitted */\n",
       "  background-color: var(--sklearn-color-fitted-level-3);\n",
       "}\n",
       "</style><div id=\"sk-container-id-1\" class=\"sk-top-container\"><div class=\"sk-text-repr-fallback\"><pre>XGBRegressor(base_score=None, booster=&#x27;gbtree&#x27;, callbacks=None,\n",
       "             colsample_bylevel=None, colsample_bynode=None,\n",
       "             colsample_bytree=None, device=None, early_stopping_rounds=None,\n",
       "             enable_categorical=False, eval_metric=&#x27;rmse&#x27;, feature_types=None,\n",
       "             gamma=None, grow_policy=None, importance_type=None,\n",
       "             interaction_constraints=None, learning_rate=None, max_bin=None,\n",
       "             max_cat_threshold=None, max_cat_to_onehot=None,\n",
       "             max_delta_step=None, max_depth=None, max_leaves=None,\n",
       "             min_child_weight=None, missing=nan, monotone_constraints=None,\n",
       "             multi_strategy=None, n_estimators=None, n_jobs=None,\n",
       "             num_parallel_tree=None, random_state=10, ...)</pre><b>In a Jupyter environment, please rerun this cell to show the HTML representation or trust the notebook. <br />On GitHub, the HTML representation is unable to render, please try loading this page with nbviewer.org.</b></div><div class=\"sk-container\" hidden><div class=\"sk-item\"><div class=\"sk-estimator fitted sk-toggleable\"><input class=\"sk-toggleable__control sk-hidden--visually\" id=\"sk-estimator-id-1\" type=\"checkbox\" checked><label for=\"sk-estimator-id-1\" class=\"sk-toggleable__label fitted sk-toggleable__label-arrow fitted\">&nbsp;XGBRegressor<span class=\"sk-estimator-doc-link fitted\">i<span>Fitted</span></span></label><div class=\"sk-toggleable__content fitted\"><pre>XGBRegressor(base_score=None, booster=&#x27;gbtree&#x27;, callbacks=None,\n",
       "             colsample_bylevel=None, colsample_bynode=None,\n",
       "             colsample_bytree=None, device=None, early_stopping_rounds=None,\n",
       "             enable_categorical=False, eval_metric=&#x27;rmse&#x27;, feature_types=None,\n",
       "             gamma=None, grow_policy=None, importance_type=None,\n",
       "             interaction_constraints=None, learning_rate=None, max_bin=None,\n",
       "             max_cat_threshold=None, max_cat_to_onehot=None,\n",
       "             max_delta_step=None, max_depth=None, max_leaves=None,\n",
       "             min_child_weight=None, missing=nan, monotone_constraints=None,\n",
       "             multi_strategy=None, n_estimators=None, n_jobs=None,\n",
       "             num_parallel_tree=None, random_state=10, ...)</pre></div> </div></div></div></div>"
      ],
      "text/plain": [
       "XGBRegressor(base_score=None, booster='gbtree', callbacks=None,\n",
       "             colsample_bylevel=None, colsample_bynode=None,\n",
       "             colsample_bytree=None, device=None, early_stopping_rounds=None,\n",
       "             enable_categorical=False, eval_metric='rmse', feature_types=None,\n",
       "             gamma=None, grow_policy=None, importance_type=None,\n",
       "             interaction_constraints=None, learning_rate=None, max_bin=None,\n",
       "             max_cat_threshold=None, max_cat_to_onehot=None,\n",
       "             max_delta_step=None, max_depth=None, max_leaves=None,\n",
       "             min_child_weight=None, missing=nan, monotone_constraints=None,\n",
       "             multi_strategy=None, n_estimators=None, n_jobs=None,\n",
       "             num_parallel_tree=None, random_state=10, ...)"
      ]
     },
     "execution_count": 103,
     "metadata": {},
     "output_type": "execute_result"
    }
   ],
   "source": [
    "model.fit(X_train_samp, y_train_samp)"
   ]
  },
  {
   "cell_type": "code",
   "execution_count": 105,
   "id": "13b7525f-11d8-4a05-913a-e9c3389471fc",
   "metadata": {},
   "outputs": [
    {
     "data": {
      "text/plain": [
       "['../../models/xgbregressor_initial.joblib']"
      ]
     },
     "execution_count": 105,
     "metadata": {},
     "output_type": "execute_result"
    }
   ],
   "source": [
    "# saving initial xgboost model\n",
    "joblib.dump(model,  '../../models/xgbregressor_initial.joblib')"
   ]
  },
  {
   "cell_type": "markdown",
   "id": "6e867071-646d-459b-807f-867d644d8ab0",
   "metadata": {},
   "source": [
    "### 10. Hyperparameter Tuning"
   ]
  },
  {
   "cell_type": "code",
   "execution_count": 106,
   "id": "f1a19358-284f-4af5-ae78-8e319c2479c4",
   "metadata": {},
   "outputs": [],
   "source": [
    "from hyperopt import fmin, tpe, hp, anneal, Trials"
   ]
  },
  {
   "cell_type": "code",
   "execution_count": 155,
   "id": "6bc4d58e-b6b0-45ce-9d2c-69c5fe612752",
   "metadata": {},
   "outputs": [],
   "source": [
    "# defining optimisation function\n",
    "def xgb_rmse_cv(params, random_state=10, cv=cv, X=X_train_samp, y=y_train_samp):\n",
    "    params = {\n",
    "              'max_depth': int(params['max_depth']), \n",
    "             'learning_rate': np.log(params['learning_rate']),\n",
    "             'subsample': np.log(params['subsample']),\n",
    "             'reg_lambda': np.log(params['reg_lambda']),\n",
    "             'reg_alpha': np.log(params['reg_alpha']),\n",
    "             'min_child_weight': int(params['min_child_weight'])}\n",
    "    \n",
    "    model = xgb.XGBRegressor(eval_metric='rmse', booster='gbtree', random_state=10, **params)\n",
    "    \n",
    "    score = -cross_val_score(model, X, y, cv=cv, scoring='neg_root_mean_squared_error', n_jobs=-1).mean()\n",
    "\n",
    "    return score"
   ]
  },
  {
   "cell_type": "code",
   "execution_count": 156,
   "id": "1b5dd89e-accd-4abf-a68f-9728a127bc26",
   "metadata": {},
   "outputs": [
    {
     "name": "stdout",
     "output_type": "stream",
     "text": [
      "100%|████████████████████████████████████████████████| 10/10 [19:23<00:00, 116.39s/trial, best loss: 7.248233425227871]\n",
      "Best MSE 7.248 params {'learning_rate': np.float64(1.1776383371860142), 'max_depth': np.float64(7.0), 'min_child_weight': np.float64(5.0), 'reg_alpha': np.float64(2.0460755251135506e+37), 'reg_lambda': np.float64(1.9748841869537638e+43), 'subsample': np.float64(2.185830430287402)}\n",
      "CPU times: total: 26.2 s\n",
      "Wall time: 21min 4s\n"
     ]
    }
   ],
   "source": [
    "%%time\n",
    "\n",
    "n_iter=10 #limiting to ten iterations for resource purposes\n",
    "\n",
    "# possible values of parameters\n",
    "space = {\n",
    "       'max_depth' : hp.quniform('max_depth', 5, 10, 1),\n",
    "       'learning_rate': hp.loguniform('learning_rate', 1e-2, 0.2),\n",
    "       'subsample': hp.loguniform('subsample', 0.7, 0.95),\n",
    "       'reg_lambda': hp.loguniform('reg_lambda', 1e-2, 100),\n",
    "       'reg_alpha': hp.loguniform('reg_alpha', 1e-2, 100),\n",
    "       'min_child_weight': hp.quniform('min_child_weight', 1, 10, 1)\n",
    "      }\n",
    "\n",
    "# trials will contain logging information\n",
    "trials = Trials()\n",
    "\n",
    "best=fmin(fn=xgb_rmse_cv, # function to optimize\n",
    "          space=space, \n",
    "          algo=tpe.suggest, # optimization algorithm, hyperotp will select its parameters automatically\n",
    "          max_evals=n_iter, # maximum number of iterations\n",
    "          trials=trials, # logging\n",
    "          rstate=np.random.default_rng(10) # fixing random state for the reproducibility\n",
    "         )\n",
    "\n",
    "print(\"Best MSE {:.3f} params {}\".format( xgb_rmse_cv(best), best))"
   ]
  },
  {
   "cell_type": "code",
   "execution_count": 157,
   "id": "31790184-0fbf-47a7-bfc7-c02cba398962",
   "metadata": {},
   "outputs": [
    {
     "data": {
      "text/plain": [
       "array([<Axes: >, <Axes: >, <Axes: >, <Axes: >, <Axes: >, <Axes: >,\n",
       "       <Axes: >], dtype=object)"
      ]
     },
     "execution_count": 157,
     "metadata": {},
     "output_type": "execute_result"
    },
    {
     "data": {
      "image/png": "[encoded data removed]",
      "text/plain": [
       "<Figure size 1000x1000 with 7 Axes>"
      ]
     },
     "metadata": {},
     "output_type": "display_data"
    }
   ],
   "source": [
    "tpe_results=np.array([[x['result']['loss'],\n",
    "                      x['misc']['vals']['learning_rate'][0],\n",
    "                      x['misc']['vals']['max_depth'][0],\n",
    "                      x['misc']['vals']['subsample'][0],\n",
    "                       x['misc']['vals']['reg_lambda'][0],\n",
    "                       x['misc']['vals']['reg_alpha'][0],\n",
    "                       x['misc']['vals']['min_child_weight'][0]\n",
    "                      ] for x in trials.trials])\n",
    "\n",
    "tpe_results_df=pd.DataFrame(tpe_results,\n",
    "                           columns=['score', 'learning_rate', 'max_depth', 'subsample', 'reg_lambda', 'reg_alpha', 'min_child_weight'])\n",
    "tpe_results_df.plot(subplots=True,figsize=(10, 10))"
   ]
  },
  {
   "cell_type": "markdown",
   "id": "a84c62db-572e-4ddc-ba59-eb66df30b5b6",
   "metadata": {},
   "source": [
    "It's interesting that the model score stayed constant up until the last iteration. It would be interesting to see performance increasing iterations and including n_estimators as a hyperparameter."
   ]
  },
  {
   "cell_type": "code",
   "execution_count": 158,
   "id": "06b77f7c-98bb-4c5b-90bb-bb42bb6c02b3",
   "metadata": {},
   "outputs": [
    {
     "data": {
      "text/plain": [
       "{'learning_rate': np.float64(0.16351102381753196),\n",
       " 'max_depth': 7,\n",
       " 'min_child_weight': 5,\n",
       " 'reg_alpha': np.float64(85.91157202117307),\n",
       " 'reg_lambda': np.float64(99.6916687558606),\n",
       " 'subsample': np.float64(0.7819958159712886)}"
      ]
     },
     "execution_count": 158,
     "metadata": {},
     "output_type": "execute_result"
    }
   ],
   "source": [
    "best_t = best.copy()\n",
    "best_t['max_depth'] = int(best['max_depth'])\n",
    "# best_t['n_estimators'] = int(best['n_estimators'])\n",
    "best_t['subsample'] = np.log(best['subsample'])\n",
    "best_t['learning_rate'] = np.log(best['learning_rate'])\n",
    "best_t['reg_lambda'] = np.log(best['reg_lambda'])\n",
    "best_t['reg_alpha'] = np.log(best['reg_alpha'])\n",
    "best_t['min_child_weight'] = int(best['min_child_weight'])\n",
    "best_t"
   ]
  },
  {
   "cell_type": "code",
   "execution_count": 159,
   "id": "7e2e749f-df53-4a3c-94dd-093365096b9a",
   "metadata": {},
   "outputs": [
    {
     "name": "stdout",
     "output_type": "stream",
     "text": [
      "[Optimised Train Results]\n"
     ]
    },
    {
     "data": {
      "text/html": [
       "<div>\n",
       "<style scoped>\n",
       "    .dataframe tbody tr th:only-of-type {\n",
       "        vertical-align: middle;\n",
       "    }\n",
       "\n",
       "    .dataframe tbody tr th {\n",
       "        vertical-align: top;\n",
       "    }\n",
       "\n",
       "    .dataframe thead th {\n",
       "        text-align: right;\n",
       "    }\n",
       "</style>\n",
       "<table border=\"1\" class=\"dataframe\">\n",
       "  <thead>\n",
       "    <tr style=\"text-align: right;\">\n",
       "      <th></th>\n",
       "      <th>Mean</th>\n",
       "      <th>STD</th>\n",
       "      <th>Median</th>\n",
       "    </tr>\n",
       "  </thead>\n",
       "  <tbody>\n",
       "    <tr>\n",
       "      <th>neg_root_mean_squared_error</th>\n",
       "      <td>7.248233</td>\n",
       "      <td>0.023520</td>\n",
       "      <td>7.256149</td>\n",
       "    </tr>\n",
       "    <tr>\n",
       "      <th>neg_mean_absolute_error</th>\n",
       "      <td>3.450219</td>\n",
       "      <td>0.003191</td>\n",
       "      <td>3.448061</td>\n",
       "    </tr>\n",
       "  </tbody>\n",
       "</table>\n",
       "</div>"
      ],
      "text/plain": [
       "                                 Mean       STD    Median\n",
       "neg_root_mean_squared_error  7.248233  0.023520  7.256149\n",
       "neg_mean_absolute_error      3.450219  0.003191  3.448061"
      ]
     },
     "metadata": {},
     "output_type": "display_data"
    },
    {
     "data": {
      "image/png": "[encoded data removed]",
      "text/plain": [
       "<Figure size 2000x500 with 2 Axes>"
      ]
     },
     "metadata": {},
     "output_type": "display_data"
    }
   ],
   "source": [
    "# generate cross validation predictions for undersampling training data\n",
    "print('[Optimised Train Results]')\n",
    "\n",
    "model_opt = xgb.XGBRegressor(eval_metric='rmse', booster='gbtree', random_state=10, **best_t)\n",
    "\n",
    "evaluate_cv_predictions_reg(X_train_samp, y_train_samp, model_opt, cv)"
   ]
  },
  {
   "cell_type": "markdown",
   "id": "5210a1bc-5bab-4fa8-a15b-bf8f25781441",
   "metadata": {},
   "source": [
    "The model had better scores after tuning. However, the model has not satisfied business requirements.\n",
    "\n",
    "Next steps would be to increase hyperopt iterations, increase training size, and/or include n_estimators to the hyperparameter space."
   ]
  },
  {
   "cell_type": "code",
   "execution_count": 160,
   "id": "218bf9e6-b223-4652-9d51-b9b1aed90e3d",
   "metadata": {},
   "outputs": [
    {
     "data": {
      "text/html": [
       "<style>#sk-container-id-2 {\n",
       "  /* Definition of color scheme common for light and dark mode */\n",
       "  --sklearn-color-text: black;\n",
       "  --sklearn-color-line: gray;\n",
       "  /* Definition of color scheme for unfitted estimators */\n",
       "  --sklearn-color-unfitted-level-0: #fff5e6;\n",
       "  --sklearn-color-unfitted-level-1: #f6e4d2;\n",
       "  --sklearn-color-unfitted-level-2: #ffe0b3;\n",
       "  --sklearn-color-unfitted-level-3: chocolate;\n",
       "  /* Definition of color scheme for fitted estimators */\n",
       "  --sklearn-color-fitted-level-0: #f0f8ff;\n",
       "  --sklearn-color-fitted-level-1: #d4ebff;\n",
       "  --sklearn-color-fitted-level-2: #b3dbfd;\n",
       "  --sklearn-color-fitted-level-3: cornflowerblue;\n",
       "\n",
       "  /* Specific color for light theme */\n",
       "  --sklearn-color-text-on-default-background: var(--sg-text-color, var(--theme-code-foreground, var(--jp-content-font-color1, black)));\n",
       "  --sklearn-color-background: var(--sg-background-color, var(--theme-background, var(--jp-layout-color0, white)));\n",
       "  --sklearn-color-border-box: var(--sg-text-color, var(--theme-code-foreground, var(--jp-content-font-color1, black)));\n",
       "  --sklearn-color-icon: #696969;\n",
       "\n",
       "  @media (prefers-color-scheme: dark) {\n",
       "    /* Redefinition of color scheme for dark theme */\n",
       "    --sklearn-color-text-on-default-background: var(--sg-text-color, var(--theme-code-foreground, var(--jp-content-font-color1, white)));\n",
       "    --sklearn-color-background: var(--sg-background-color, var(--theme-background, var(--jp-layout-color0, #111)));\n",
       "    --sklearn-color-border-box: var(--sg-text-color, var(--theme-code-foreground, var(--jp-content-font-color1, white)));\n",
       "    --sklearn-color-icon: #878787;\n",
       "  }\n",
       "}\n",
       "\n",
       "#sk-container-id-2 {\n",
       "  color: var(--sklearn-color-text);\n",
       "}\n",
       "\n",
       "#sk-container-id-2 pre {\n",
       "  padding: 0;\n",
       "}\n",
       "\n",
       "#sk-container-id-2 input.sk-hidden--visually {\n",
       "  border: 0;\n",
       "  clip: rect(1px 1px 1px 1px);\n",
       "  clip: rect(1px, 1px, 1px, 1px);\n",
       "  height: 1px;\n",
       "  margin: -1px;\n",
       "  overflow: hidden;\n",
       "  padding: 0;\n",
       "  position: absolute;\n",
       "  width: 1px;\n",
       "}\n",
       "\n",
       "#sk-container-id-2 div.sk-dashed-wrapped {\n",
       "  border: 1px dashed var(--sklearn-color-line);\n",
       "  margin: 0 0.4em 0.5em 0.4em;\n",
       "  box-sizing: border-box;\n",
       "  padding-bottom: 0.4em;\n",
       "  background-color: var(--sklearn-color-background);\n",
       "}\n",
       "\n",
       "#sk-container-id-2 div.sk-container {\n",
       "  /* jupyter's `normalize.less` sets `[hidden] { display: none; }`\n",
       "     but bootstrap.min.css set `[hidden] { display: none !important; }`\n",
       "     so we also need the `!important` here to be able to override the\n",
       "     default hidden behavior on the sphinx rendered scikit-learn.org.\n",
       "     See: https://github.com/scikit-learn/scikit-learn/issues/21755 */\n",
       "  display: inline-block !important;\n",
       "  position: relative;\n",
       "}\n",
       "\n",
       "#sk-container-id-2 div.sk-text-repr-fallback {\n",
       "  display: none;\n",
       "}\n",
       "\n",
       "div.sk-parallel-item,\n",
       "div.sk-serial,\n",
       "div.sk-item {\n",
       "  /* draw centered vertical line to link estimators */\n",
       "  background-image: linear-gradient(var(--sklearn-color-text-on-default-background), var(--sklearn-color-text-on-default-background));\n",
       "  background-size: 2px 100%;\n",
       "  background-repeat: no-repeat;\n",
       "  background-position: center center;\n",
       "}\n",
       "\n",
       "/* Parallel-specific style estimator block */\n",
       "\n",
       "#sk-container-id-2 div.sk-parallel-item::after {\n",
       "  content: \"\";\n",
       "  width: 100%;\n",
       "  border-bottom: 2px solid var(--sklearn-color-text-on-default-background);\n",
       "  flex-grow: 1;\n",
       "}\n",
       "\n",
       "#sk-container-id-2 div.sk-parallel {\n",
       "  display: flex;\n",
       "  align-items: stretch;\n",
       "  justify-content: center;\n",
       "  background-color: var(--sklearn-color-background);\n",
       "  position: relative;\n",
       "}\n",
       "\n",
       "#sk-container-id-2 div.sk-parallel-item {\n",
       "  display: flex;\n",
       "  flex-direction: column;\n",
       "}\n",
       "\n",
       "#sk-container-id-2 div.sk-parallel-item:first-child::after {\n",
       "  align-self: flex-end;\n",
       "  width: 50%;\n",
       "}\n",
       "\n",
       "#sk-container-id-2 div.sk-parallel-item:last-child::after {\n",
       "  align-self: flex-start;\n",
       "  width: 50%;\n",
       "}\n",
       "\n",
       "#sk-container-id-2 div.sk-parallel-item:only-child::after {\n",
       "  width: 0;\n",
       "}\n",
       "\n",
       "/* Serial-specific style estimator block */\n",
       "\n",
       "#sk-container-id-2 div.sk-serial {\n",
       "  display: flex;\n",
       "  flex-direction: column;\n",
       "  align-items: center;\n",
       "  background-color: var(--sklearn-color-background);\n",
       "  padding-right: 1em;\n",
       "  padding-left: 1em;\n",
       "}\n",
       "\n",
       "\n",
       "/* Toggleable style: style used for estimator/Pipeline/ColumnTransformer box that is\n",
       "clickable and can be expanded/collapsed.\n",
       "- Pipeline and ColumnTransformer use this feature and define the default style\n",
       "- Estimators will overwrite some part of the style using the `sk-estimator` class\n",
       "*/\n",
       "\n",
       "/* Pipeline and ColumnTransformer style (default) */\n",
       "\n",
       "#sk-container-id-2 div.sk-toggleable {\n",
       "  /* Default theme specific background. It is overwritten whether we have a\n",
       "  specific estimator or a Pipeline/ColumnTransformer */\n",
       "  background-color: var(--sklearn-color-background);\n",
       "}\n",
       "\n",
       "/* Toggleable label */\n",
       "#sk-container-id-2 label.sk-toggleable__label {\n",
       "  cursor: pointer;\n",
       "  display: block;\n",
       "  width: 100%;\n",
       "  margin-bottom: 0;\n",
       "  padding: 0.5em;\n",
       "  box-sizing: border-box;\n",
       "  text-align: center;\n",
       "}\n",
       "\n",
       "#sk-container-id-2 label.sk-toggleable__label-arrow:before {\n",
       "  /* Arrow on the left of the label */\n",
       "  content: \"▸\";\n",
       "  float: left;\n",
       "  margin-right: 0.25em;\n",
       "  color: var(--sklearn-color-icon);\n",
       "}\n",
       "\n",
       "#sk-container-id-2 label.sk-toggleable__label-arrow:hover:before {\n",
       "  color: var(--sklearn-color-text);\n",
       "}\n",
       "\n",
       "/* Toggleable content - dropdown */\n",
       "\n",
       "#sk-container-id-2 div.sk-toggleable__content {\n",
       "  max-height: 0;\n",
       "  max-width: 0;\n",
       "  overflow: hidden;\n",
       "  text-align: left;\n",
       "  /* unfitted */\n",
       "  background-color: var(--sklearn-color-unfitted-level-0);\n",
       "}\n",
       "\n",
       "#sk-container-id-2 div.sk-toggleable__content.fitted {\n",
       "  /* fitted */\n",
       "  background-color: var(--sklearn-color-fitted-level-0);\n",
       "}\n",
       "\n",
       "#sk-container-id-2 div.sk-toggleable__content pre {\n",
       "  margin: 0.2em;\n",
       "  border-radius: 0.25em;\n",
       "  color: var(--sklearn-color-text);\n",
       "  /* unfitted */\n",
       "  background-color: var(--sklearn-color-unfitted-level-0);\n",
       "}\n",
       "\n",
       "#sk-container-id-2 div.sk-toggleable__content.fitted pre {\n",
       "  /* unfitted */\n",
       "  background-color: var(--sklearn-color-fitted-level-0);\n",
       "}\n",
       "\n",
       "#sk-container-id-2 input.sk-toggleable__control:checked~div.sk-toggleable__content {\n",
       "  /* Expand drop-down */\n",
       "  max-height: 200px;\n",
       "  max-width: 100%;\n",
       "  overflow: auto;\n",
       "}\n",
       "\n",
       "#sk-container-id-2 input.sk-toggleable__control:checked~label.sk-toggleable__label-arrow:before {\n",
       "  content: \"▾\";\n",
       "}\n",
       "\n",
       "/* Pipeline/ColumnTransformer-specific style */\n",
       "\n",
       "#sk-container-id-2 div.sk-label input.sk-toggleable__control:checked~label.sk-toggleable__label {\n",
       "  color: var(--sklearn-color-text);\n",
       "  background-color: var(--sklearn-color-unfitted-level-2);\n",
       "}\n",
       "\n",
       "#sk-container-id-2 div.sk-label.fitted input.sk-toggleable__control:checked~label.sk-toggleable__label {\n",
       "  background-color: var(--sklearn-color-fitted-level-2);\n",
       "}\n",
       "\n",
       "/* Estimator-specific style */\n",
       "\n",
       "/* Colorize estimator box */\n",
       "#sk-container-id-2 div.sk-estimator input.sk-toggleable__control:checked~label.sk-toggleable__label {\n",
       "  /* unfitted */\n",
       "  background-color: var(--sklearn-color-unfitted-level-2);\n",
       "}\n",
       "\n",
       "#sk-container-id-2 div.sk-estimator.fitted input.sk-toggleable__control:checked~label.sk-toggleable__label {\n",
       "  /* fitted */\n",
       "  background-color: var(--sklearn-color-fitted-level-2);\n",
       "}\n",
       "\n",
       "#sk-container-id-2 div.sk-label label.sk-toggleable__label,\n",
       "#sk-container-id-2 div.sk-label label {\n",
       "  /* The background is the default theme color */\n",
       "  color: var(--sklearn-color-text-on-default-background);\n",
       "}\n",
       "\n",
       "/* On hover, darken the color of the background */\n",
       "#sk-container-id-2 div.sk-label:hover label.sk-toggleable__label {\n",
       "  color: var(--sklearn-color-text);\n",
       "  background-color: var(--sklearn-color-unfitted-level-2);\n",
       "}\n",
       "\n",
       "/* Label box, darken color on hover, fitted */\n",
       "#sk-container-id-2 div.sk-label.fitted:hover label.sk-toggleable__label.fitted {\n",
       "  color: var(--sklearn-color-text);\n",
       "  background-color: var(--sklearn-color-fitted-level-2);\n",
       "}\n",
       "\n",
       "/* Estimator label */\n",
       "\n",
       "#sk-container-id-2 div.sk-label label {\n",
       "  font-family: monospace;\n",
       "  font-weight: bold;\n",
       "  display: inline-block;\n",
       "  line-height: 1.2em;\n",
       "}\n",
       "\n",
       "#sk-container-id-2 div.sk-label-container {\n",
       "  text-align: center;\n",
       "}\n",
       "\n",
       "/* Estimator-specific */\n",
       "#sk-container-id-2 div.sk-estimator {\n",
       "  font-family: monospace;\n",
       "  border: 1px dotted var(--sklearn-color-border-box);\n",
       "  border-radius: 0.25em;\n",
       "  box-sizing: border-box;\n",
       "  margin-bottom: 0.5em;\n",
       "  /* unfitted */\n",
       "  background-color: var(--sklearn-color-unfitted-level-0);\n",
       "}\n",
       "\n",
       "#sk-container-id-2 div.sk-estimator.fitted {\n",
       "  /* fitted */\n",
       "  background-color: var(--sklearn-color-fitted-level-0);\n",
       "}\n",
       "\n",
       "/* on hover */\n",
       "#sk-container-id-2 div.sk-estimator:hover {\n",
       "  /* unfitted */\n",
       "  background-color: var(--sklearn-color-unfitted-level-2);\n",
       "}\n",
       "\n",
       "#sk-container-id-2 div.sk-estimator.fitted:hover {\n",
       "  /* fitted */\n",
       "  background-color: var(--sklearn-color-fitted-level-2);\n",
       "}\n",
       "\n",
       "/* Specification for estimator info (e.g. \"i\" and \"?\") */\n",
       "\n",
       "/* Common style for \"i\" and \"?\" */\n",
       "\n",
       ".sk-estimator-doc-link,\n",
       "a:link.sk-estimator-doc-link,\n",
       "a:visited.sk-estimator-doc-link {\n",
       "  float: right;\n",
       "  font-size: smaller;\n",
       "  line-height: 1em;\n",
       "  font-family: monospace;\n",
       "  background-color: var(--sklearn-color-background);\n",
       "  border-radius: 1em;\n",
       "  height: 1em;\n",
       "  width: 1em;\n",
       "  text-decoration: none !important;\n",
       "  margin-left: 1ex;\n",
       "  /* unfitted */\n",
       "  border: var(--sklearn-color-unfitted-level-1) 1pt solid;\n",
       "  color: var(--sklearn-color-unfitted-level-1);\n",
       "}\n",
       "\n",
       ".sk-estimator-doc-link.fitted,\n",
       "a:link.sk-estimator-doc-link.fitted,\n",
       "a:visited.sk-estimator-doc-link.fitted {\n",
       "  /* fitted */\n",
       "  border: var(--sklearn-color-fitted-level-1) 1pt solid;\n",
       "  color: var(--sklearn-color-fitted-level-1);\n",
       "}\n",
       "\n",
       "/* On hover */\n",
       "div.sk-estimator:hover .sk-estimator-doc-link:hover,\n",
       ".sk-estimator-doc-link:hover,\n",
       "div.sk-label-container:hover .sk-estimator-doc-link:hover,\n",
       ".sk-estimator-doc-link:hover {\n",
       "  /* unfitted */\n",
       "  background-color: var(--sklearn-color-unfitted-level-3);\n",
       "  color: var(--sklearn-color-background);\n",
       "  text-decoration: none;\n",
       "}\n",
       "\n",
       "div.sk-estimator.fitted:hover .sk-estimator-doc-link.fitted:hover,\n",
       ".sk-estimator-doc-link.fitted:hover,\n",
       "div.sk-label-container:hover .sk-estimator-doc-link.fitted:hover,\n",
       ".sk-estimator-doc-link.fitted:hover {\n",
       "  /* fitted */\n",
       "  background-color: var(--sklearn-color-fitted-level-3);\n",
       "  color: var(--sklearn-color-background);\n",
       "  text-decoration: none;\n",
       "}\n",
       "\n",
       "/* Span, style for the box shown on hovering the info icon */\n",
       ".sk-estimator-doc-link span {\n",
       "  display: none;\n",
       "  z-index: 9999;\n",
       "  position: relative;\n",
       "  font-weight: normal;\n",
       "  right: .2ex;\n",
       "  padding: .5ex;\n",
       "  margin: .5ex;\n",
       "  width: min-content;\n",
       "  min-width: 20ex;\n",
       "  max-width: 50ex;\n",
       "  color: var(--sklearn-color-text);\n",
       "  box-shadow: 2pt 2pt 4pt #999;\n",
       "  /* unfitted */\n",
       "  background: var(--sklearn-color-unfitted-level-0);\n",
       "  border: .5pt solid var(--sklearn-color-unfitted-level-3);\n",
       "}\n",
       "\n",
       ".sk-estimator-doc-link.fitted span {\n",
       "  /* fitted */\n",
       "  background: var(--sklearn-color-fitted-level-0);\n",
       "  border: var(--sklearn-color-fitted-level-3);\n",
       "}\n",
       "\n",
       ".sk-estimator-doc-link:hover span {\n",
       "  display: block;\n",
       "}\n",
       "\n",
       "/* \"?\"-specific style due to the `<a>` HTML tag */\n",
       "\n",
       "#sk-container-id-2 a.estimator_doc_link {\n",
       "  float: right;\n",
       "  font-size: 1rem;\n",
       "  line-height: 1em;\n",
       "  font-family: monospace;\n",
       "  background-color: var(--sklearn-color-background);\n",
       "  border-radius: 1rem;\n",
       "  height: 1rem;\n",
       "  width: 1rem;\n",
       "  text-decoration: none;\n",
       "  /* unfitted */\n",
       "  color: var(--sklearn-color-unfitted-level-1);\n",
       "  border: var(--sklearn-color-unfitted-level-1) 1pt solid;\n",
       "}\n",
       "\n",
       "#sk-container-id-2 a.estimator_doc_link.fitted {\n",
       "  /* fitted */\n",
       "  border: var(--sklearn-color-fitted-level-1) 1pt solid;\n",
       "  color: var(--sklearn-color-fitted-level-1);\n",
       "}\n",
       "\n",
       "/* On hover */\n",
       "#sk-container-id-2 a.estimator_doc_link:hover {\n",
       "  /* unfitted */\n",
       "  background-color: var(--sklearn-color-unfitted-level-3);\n",
       "  color: var(--sklearn-color-background);\n",
       "  text-decoration: none;\n",
       "}\n",
       "\n",
       "#sk-container-id-2 a.estimator_doc_link.fitted:hover {\n",
       "  /* fitted */\n",
       "  background-color: var(--sklearn-color-fitted-level-3);\n",
       "}\n",
       "</style><div id=\"sk-container-id-2\" class=\"sk-top-container\"><div class=\"sk-text-repr-fallback\"><pre>XGBRegressor(base_score=None, booster=&#x27;gbtree&#x27;, callbacks=None,\n",
       "             colsample_bylevel=None, colsample_bynode=None,\n",
       "             colsample_bytree=None, device=None, early_stopping_rounds=None,\n",
       "             enable_categorical=False, eval_metric=&#x27;rmse&#x27;, feature_types=None,\n",
       "             gamma=None, grow_policy=None, importance_type=None,\n",
       "             interaction_constraints=None,\n",
       "             learning_rate=np.float64(0.16351102381753196), max_bin=None,\n",
       "             max_cat_threshold=None, max_cat_to_onehot=None,\n",
       "             max_delta_step=None, max_depth=7, max_leaves=None,\n",
       "             min_child_weight=5, missing=nan, monotone_constraints=None,\n",
       "             multi_strategy=None, n_estimators=None, n_jobs=None,\n",
       "             num_parallel_tree=None, random_state=10, ...)</pre><b>In a Jupyter environment, please rerun this cell to show the HTML representation or trust the notebook. <br />On GitHub, the HTML representation is unable to render, please try loading this page with nbviewer.org.</b></div><div class=\"sk-container\" hidden><div class=\"sk-item\"><div class=\"sk-estimator fitted sk-toggleable\"><input class=\"sk-toggleable__control sk-hidden--visually\" id=\"sk-estimator-id-2\" type=\"checkbox\" checked><label for=\"sk-estimator-id-2\" class=\"sk-toggleable__label fitted sk-toggleable__label-arrow fitted\">&nbsp;XGBRegressor<span class=\"sk-estimator-doc-link fitted\">i<span>Fitted</span></span></label><div class=\"sk-toggleable__content fitted\"><pre>XGBRegressor(base_score=None, booster=&#x27;gbtree&#x27;, callbacks=None,\n",
       "             colsample_bylevel=None, colsample_bynode=None,\n",
       "             colsample_bytree=None, device=None, early_stopping_rounds=None,\n",
       "             enable_categorical=False, eval_metric=&#x27;rmse&#x27;, feature_types=None,\n",
       "             gamma=None, grow_policy=None, importance_type=None,\n",
       "             interaction_constraints=None,\n",
       "             learning_rate=np.float64(0.16351102381753196), max_bin=None,\n",
       "             max_cat_threshold=None, max_cat_to_onehot=None,\n",
       "             max_delta_step=None, max_depth=7, max_leaves=None,\n",
       "             min_child_weight=5, missing=nan, monotone_constraints=None,\n",
       "             multi_strategy=None, n_estimators=None, n_jobs=None,\n",
       "             num_parallel_tree=None, random_state=10, ...)</pre></div> </div></div></div></div>"
      ],
      "text/plain": [
       "XGBRegressor(base_score=None, booster='gbtree', callbacks=None,\n",
       "             colsample_bylevel=None, colsample_bynode=None,\n",
       "             colsample_bytree=None, device=None, early_stopping_rounds=None,\n",
       "             enable_categorical=False, eval_metric='rmse', feature_types=None,\n",
       "             gamma=None, grow_policy=None, importance_type=None,\n",
       "             interaction_constraints=None,\n",
       "             learning_rate=np.float64(0.16351102381753196), max_bin=None,\n",
       "             max_cat_threshold=None, max_cat_to_onehot=None,\n",
       "             max_delta_step=None, max_depth=7, max_leaves=None,\n",
       "             min_child_weight=5, missing=nan, monotone_constraints=None,\n",
       "             multi_strategy=None, n_estimators=None, n_jobs=None,\n",
       "             num_parallel_tree=None, random_state=10, ...)"
      ]
     },
     "execution_count": 160,
     "metadata": {},
     "output_type": "execute_result"
    }
   ],
   "source": [
    "model_opt.fit(X_train_samp, y_train_samp)"
   ]
  },
  {
   "cell_type": "code",
   "execution_count": 161,
   "id": "c5dbf808-0e9c-465c-8792-1e987e43d92c",
   "metadata": {},
   "outputs": [
    {
     "data": {
      "text/plain": [
       "['../../models/xgbregressor_hyperopt.joblib']"
      ]
     },
     "execution_count": 161,
     "metadata": {},
     "output_type": "execute_result"
    }
   ],
   "source": [
    "# saving optimised model\n",
    "joblib.dump(model_opt,  '../../models/xgbregressor_hyperopt.joblib')"
   ]
  },
  {
   "cell_type": "markdown",
   "id": "6da2f725-2730-4771-9da6-add387a0beee",
   "metadata": {},
   "source": [
    "### 11. Evaluate Test Data"
   ]
  },
  {
   "cell_type": "code",
   "execution_count": 162,
   "id": "48cf995b-39cb-4566-9cc5-e710df2faad6",
   "metadata": {},
   "outputs": [
    {
     "data": {
      "text/html": [
       "<div>\n",
       "<style scoped>\n",
       "    .dataframe tbody tr th:only-of-type {\n",
       "        vertical-align: middle;\n",
       "    }\n",
       "\n",
       "    .dataframe tbody tr th {\n",
       "        vertical-align: top;\n",
       "    }\n",
       "\n",
       "    .dataframe thead th {\n",
       "        text-align: right;\n",
       "    }\n",
       "</style>\n",
       "<table border=\"1\" class=\"dataframe\">\n",
       "  <thead>\n",
       "    <tr style=\"text-align: right;\">\n",
       "      <th></th>\n",
       "      <th>Mean</th>\n",
       "      <th>STD</th>\n",
       "      <th>Median</th>\n",
       "    </tr>\n",
       "  </thead>\n",
       "  <tbody>\n",
       "    <tr>\n",
       "      <th>neg_root_mean_squared_error</th>\n",
       "      <td>9.024551</td>\n",
       "      <td>0.082139</td>\n",
       "      <td>9.040379</td>\n",
       "    </tr>\n",
       "    <tr>\n",
       "      <th>neg_mean_absolute_error</th>\n",
       "      <td>3.835742</td>\n",
       "      <td>0.004877</td>\n",
       "      <td>3.838012</td>\n",
       "    </tr>\n",
       "  </tbody>\n",
       "</table>\n",
       "</div>"
      ],
      "text/plain": [
       "                                 Mean       STD    Median\n",
       "neg_root_mean_squared_error  9.024551  0.082139  9.040379\n",
       "neg_mean_absolute_error      3.835742  0.004877  3.838012"
      ]
     },
     "metadata": {},
     "output_type": "display_data"
    },
    {
     "data": {
      "image/png": "[encoded data removed]",
      "text/plain": [
       "<Figure size 2000x500 with 2 Axes>"
      ]
     },
     "metadata": {},
     "output_type": "display_data"
    }
   ],
   "source": [
    "# computing the score on the test set\n",
    "evaluate_cv_predictions_reg(X_test, y_test, model_opt, cv)"
   ]
  },
  {
   "cell_type": "markdown",
   "id": "304c9a9b-d1f9-46a8-976e-44a86572dcba",
   "metadata": {},
   "source": [
    "In conclusion, the test evaluations, after hyperparameter tuning as well as classification threshold tuning, show that the model is able to properly distinguish between the two classes, for unseen data. Given that it has satisfied the business requirements, strong considerations to deploy is recommended."
   ]
  },
  {
   "cell_type": "markdown",
   "id": "5a52f865-c22d-4ec3-9384-202523553eb3",
   "metadata": {},
   "source": [
    "### 12. Feature Importance"
   ]
  },
  {
   "cell_type": "code",
   "execution_count": 163,
   "id": "971b2827-f308-4811-9ee9-b976ce8a9baa",
   "metadata": {},
   "outputs": [
    {
     "data": {
      "image/png": "[encoded data removed]",
      "text/plain": [
       "<Figure size 2000x500 with 1 Axes>"
      ]
     },
     "metadata": {},
     "output_type": "display_data"
    }
   ],
   "source": [
    "feature_important_gain = pd.Series(model_opt.get_booster().get_score(importance_type='gain')).sort_values(ascending=False)\n",
    "\n",
    "fig, ax = plt.subplots(1,1,figsize=(20,5))\n",
    "\n",
    "ax = feature_important_gain.plot.bar()\n",
    "\n",
    "ax.set_title('Feature Importance by Gain')\n",
    "\n",
    "plt.show()"
   ]
  },
  {
   "cell_type": "code",
   "execution_count": 164,
   "id": "631e14e5-69df-4e2f-a0bf-e553a38cd468",
   "metadata": {},
   "outputs": [
    {
     "data": {
      "text/plain": [
       "<Axes: title={'center': 'Feature importance'}, xlabel='F score', ylabel='Features'>"
      ]
     },
     "execution_count": 164,
     "metadata": {},
     "output_type": "execute_result"
    },
    {
     "data": {
      "image/png": "[encoded data removed]",
      "text/plain": [
       "<Figure size 640x480 with 1 Axes>"
      ]
     },
     "metadata": {},
     "output_type": "display_data"
    }
   ],
   "source": [
    "xgb.plot_importance(model_opt,max_num_features=None)"
   ]
  },
  {
   "cell_type": "markdown",
   "id": "d8efc6d9-6cbe-4572-a6ae-145daf5a8d04",
   "metadata": {},
   "source": [
    "Some notes on feature importance:\n",
    "- item_id_encoded has high importance scores\n",
    "- as expected CA store 3 is a big player for the retailer\n",
    "- both weight and gain, sporting scored at the bottom"
   ]
  },
  {
   "cell_type": "code",
   "execution_count": null,
   "id": "451ead2d-2a14-48d3-8295-46ba3c0c8750",
   "metadata": {},
   "outputs": [],
   "source": []
  }
 ],
 "metadata": {
  "kernelspec": {
   "display_name": "Python 3 (ipykernel)",
   "language": "python",
   "name": "python3"
  },
  "language_info": {
   "codemirror_mode": {
    "name": "ipython",
    "version": 3
   },
   "file_extension": ".py",
   "mimetype": "text/x-python",
   "name": "python",
   "nbconvert_exporter": "python",
   "pygments_lexer": "ipython3",
   "version": "3.12.4"
  }
 },
 "nbformat": 4,
 "nbformat_minor": 5
}
